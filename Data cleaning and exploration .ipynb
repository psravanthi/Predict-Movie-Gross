{
 "cells": [
  {
   "cell_type": "markdown",
   "metadata": {},
   "source": [
    " ## Predicting movie gross revenue "
   ]
  },
  {
   "cell_type": "markdown",
   "metadata": {},
   "source": [
    "#### Read movie data"
   ]
  },
  {
   "cell_type": "code",
   "execution_count": 161,
   "metadata": {
    "collapsed": false
   },
   "outputs": [],
   "source": [
    "import pandas as pd\n",
    "files = !ls *.csv \n",
    "\n",
    "    \n",
    "final_data = pd.concat([pd.read_csv(f, index_col=0, header=None, skiprows = 1) for f in files])\n"
   ]
  },
  {
   "cell_type": "code",
   "execution_count": 165,
   "metadata": {
    "collapsed": true
   },
   "outputs": [],
   "source": [
    "final_data = final_data.reset_index(drop=True)"
   ]
  },
  {
   "cell_type": "code",
   "execution_count": 166,
   "metadata": {
    "collapsed": true
   },
   "outputs": [],
   "source": [
    "final_data.columns = [\"Release_Date\",\"Movie\",\"Gross\",\"Genre\",\"Run_Time\",\"Rating\",\"Budget\",\"Num_theatres\",\"Actors\",\"Producer\",\"Writer\",\"Director\"]"
   ]
  },
  {
   "cell_type": "code",
   "execution_count": 167,
   "metadata": {
    "collapsed": false,
    "scrolled": true
   },
   "outputs": [
    {
     "data": {
      "text/html": [
       "<div>\n",
       "<table border=\"1\" class=\"dataframe\">\n",
       "  <thead>\n",
       "    <tr style=\"text-align: right;\">\n",
       "      <th></th>\n",
       "      <th>Release_Date</th>\n",
       "      <th>Movie</th>\n",
       "      <th>Gross</th>\n",
       "      <th>Genre</th>\n",
       "      <th>Run_Time</th>\n",
       "      <th>Rating</th>\n",
       "      <th>Budget</th>\n",
       "      <th>Num_theatres</th>\n",
       "      <th>Actors</th>\n",
       "      <th>Producer</th>\n",
       "      <th>Writer</th>\n",
       "      <th>Director</th>\n",
       "    </tr>\n",
       "  </thead>\n",
       "  <tbody>\n",
       "    <tr>\n",
       "      <th>0</th>\n",
       "      <td>April 9, 2004</td>\n",
       "      <td>The Alamo (2004)</td>\n",
       "      <td>$22,414,961</td>\n",
       "      <td>War</td>\n",
       "      <td>2 hrs. 17 min.</td>\n",
       "      <td>PG-13</td>\n",
       "      <td>$107 million</td>\n",
       "      <td>2,609 theaters</td>\n",
       "      <td>['Billy Bob Thornton', 'Dennis Quaid', 'Patric...</td>\n",
       "      <td>Ron Howard</td>\n",
       "      <td>Leslie Bohem</td>\n",
       "      <td>John Lee Hancock</td>\n",
       "    </tr>\n",
       "    <tr>\n",
       "      <th>1</th>\n",
       "      <td>December 25, 2004</td>\n",
       "      <td>Darkness</td>\n",
       "      <td>$22,163,442</td>\n",
       "      <td>Horror</td>\n",
       "      <td>1 hrs. 42 min.</td>\n",
       "      <td>PG-13</td>\n",
       "      <td>$10.6 million</td>\n",
       "      <td>1,718 theaters</td>\n",
       "      <td>['Anna Paquin', 'Lena Olin']</td>\n",
       "      <td>NaN</td>\n",
       "      <td>NaN</td>\n",
       "      <td>NaN</td>\n",
       "    </tr>\n",
       "    <tr>\n",
       "      <th>2</th>\n",
       "      <td>September 17, 2004</td>\n",
       "      <td>Mr. 3000</td>\n",
       "      <td>$21,811,187</td>\n",
       "      <td>Sports Comedy</td>\n",
       "      <td>1 hrs. 44 min.</td>\n",
       "      <td>PG-13</td>\n",
       "      <td>NaN</td>\n",
       "      <td>2,736 theaters</td>\n",
       "      <td>['Keegan-Michael Key', 'Bernie Mac', 'Angela B...</td>\n",
       "      <td>Gary Barber</td>\n",
       "      <td>NaN</td>\n",
       "      <td>Charles Stone III</td>\n",
       "    </tr>\n",
       "    <tr>\n",
       "      <th>3</th>\n",
       "      <td>March 12, 2004</td>\n",
       "      <td>NASCAR 3D:\\nThe IMAX Experience (IMAX)</td>\n",
       "      <td>$21,583,831</td>\n",
       "      <td>IMAX</td>\n",
       "      <td>0 hrs. 40 min.</td>\n",
       "      <td>PG</td>\n",
       "      <td>NaN</td>\n",
       "      <td>73 theaters</td>\n",
       "      <td>[]</td>\n",
       "      <td>NaN</td>\n",
       "      <td>NaN</td>\n",
       "      <td>NaN</td>\n",
       "    </tr>\n",
       "    <tr>\n",
       "      <th>4</th>\n",
       "      <td>January 16, 2004</td>\n",
       "      <td>Torque</td>\n",
       "      <td>$21,215,059</td>\n",
       "      <td>Action</td>\n",
       "      <td>1 hrs. 21 min.</td>\n",
       "      <td>PG-13</td>\n",
       "      <td>$40 million</td>\n",
       "      <td>2,463 theaters</td>\n",
       "      <td>['Ice Cube', 'Adam Scott']</td>\n",
       "      <td>Neal H. Moritz</td>\n",
       "      <td>NaN</td>\n",
       "      <td>NaN</td>\n",
       "    </tr>\n",
       "  </tbody>\n",
       "</table>\n",
       "</div>"
      ],
      "text/plain": [
       "         Release_Date                                   Movie        Gross  \\\n",
       "0       April 9, 2004                        The Alamo (2004)  $22,414,961   \n",
       "1   December 25, 2004                                Darkness  $22,163,442   \n",
       "2  September 17, 2004                                Mr. 3000  $21,811,187   \n",
       "3      March 12, 2004  NASCAR 3D:\\nThe IMAX Experience (IMAX)  $21,583,831   \n",
       "4    January 16, 2004                                  Torque  $21,215,059   \n",
       "\n",
       "           Genre        Run_Time Rating         Budget     Num_theatres  \\\n",
       "0            War  2 hrs. 17 min.  PG-13   $107 million   2,609 theaters   \n",
       "1         Horror  1 hrs. 42 min.  PG-13  $10.6 million   1,718 theaters   \n",
       "2  Sports Comedy  1 hrs. 44 min.  PG-13            NaN   2,736 theaters   \n",
       "3           IMAX  0 hrs. 40 min.     PG            NaN      73 theaters   \n",
       "4         Action  1 hrs. 21 min.  PG-13    $40 million   2,463 theaters   \n",
       "\n",
       "                                              Actors        Producer  \\\n",
       "0  ['Billy Bob Thornton', 'Dennis Quaid', 'Patric...      Ron Howard   \n",
       "1                       ['Anna Paquin', 'Lena Olin']             NaN   \n",
       "2  ['Keegan-Michael Key', 'Bernie Mac', 'Angela B...     Gary Barber   \n",
       "3                                                 []             NaN   \n",
       "4                         ['Ice Cube', 'Adam Scott']  Neal H. Moritz   \n",
       "\n",
       "         Writer           Director  \n",
       "0  Leslie Bohem   John Lee Hancock  \n",
       "1           NaN                NaN  \n",
       "2           NaN  Charles Stone III  \n",
       "3           NaN                NaN  \n",
       "4           NaN                NaN  "
      ]
     },
     "execution_count": 167,
     "metadata": {},
     "output_type": "execute_result"
    }
   ],
   "source": [
    "final_data.head()"
   ]
  },
  {
   "cell_type": "markdown",
   "metadata": {},
   "source": [
    "### Cleaning"
   ]
  },
  {
   "cell_type": "code",
   "execution_count": 169,
   "metadata": {
    "collapsed": false
   },
   "outputs": [],
   "source": [
    "final_data = final_data.dropna(how='all')"
   ]
  },
  {
   "cell_type": "code",
   "execution_count": 171,
   "metadata": {
    "collapsed": false
   },
   "outputs": [],
   "source": [
    "final_data = final_data.dropna(subset=[\"Budget\"])"
   ]
  },
  {
   "cell_type": "code",
   "execution_count": 176,
   "metadata": {
    "collapsed": true
   },
   "outputs": [],
   "source": [
    "final_data = final_data[final_data[\"Genre\"] != \"Documentary\"]"
   ]
  },
  {
   "cell_type": "code",
   "execution_count": 177,
   "metadata": {
    "collapsed": true
   },
   "outputs": [],
   "source": [
    "final_data = final_data[final_data[\"Genre\"] !=\"Animation\"]"
   ]
  },
  {
   "cell_type": "code",
   "execution_count": 179,
   "metadata": {
    "collapsed": true
   },
   "outputs": [],
   "source": [
    "final_data[\"Movie\"] = final_data[\"Movie\"].str.replace(\"\\n\",\"\")"
   ]
  },
  {
   "cell_type": "code",
   "execution_count": 180,
   "metadata": {
    "collapsed": false
   },
   "outputs": [],
   "source": [
    "def to_minutes(hours):\n",
    "    if isinstance(hours,float):\n",
    "        return hours\n",
    "    hr = [int(s) for s in hours.split() if s.isdigit()]\n",
    "   \n",
    "    minutes = hr[0]*60 + hr[1]\n",
    "    return minutes\n",
    "final_data[\"Run_Time\"]=final_data[\"Run_Time\"].apply(to_minutes)"
   ]
  },
  {
   "cell_type": "code",
   "execution_count": 181,
   "metadata": {
    "collapsed": false
   },
   "outputs": [],
   "source": [
    "from datetime import datetime\n",
    "from datetime import timedelta\n",
    "final_data[\"Release_Date\"] = final_data[\"Release_Date\"].apply(lambda x: datetime.strptime(x,\"%B %d, %Y\") )"
   ]
  },
  {
   "cell_type": "code",
   "execution_count": 184,
   "metadata": {
    "collapsed": false
   },
   "outputs": [],
   "source": [
    "final_data[\"Gross\"] = final_data[\"Gross\"].str.strip('$').str.replace(\",\",\"\").str.replace(\"Estimate\",\"\").str.replace(\"(\",\"\").str.replace(\")\",\"\").str.strip(\" \")\n",
    "final_data[\"Gross\"] = final_data[\"Gross\"].astype(int)"
   ]
  },
  {
   "cell_type": "code",
   "execution_count": 185,
   "metadata": {
    "collapsed": false
   },
   "outputs": [],
   "source": [
    "\n",
    "final_data[\"Num_theatres\"] = final_data[\"Num_theatres\"].str.replace(\",\",\"\").str.replace(\"theaters\",\"\")\n",
    "final_data[\"Num_theatres\"] = final_data[\"Num_theatres\"].astype(int)"
   ]
  },
  {
   "cell_type": "code",
   "execution_count": 186,
   "metadata": {
    "collapsed": true
   },
   "outputs": [],
   "source": [
    "import math\n",
    "def transform_budget(budget):\n",
    "    if isinstance(budget,float):\n",
    "        \n",
    "        return budget\n",
    "    if 'million' in budget:\n",
    "        return float(budget.strip(\"$\").replace(\"million\",\"\"))*1000000\n",
    "    else:\n",
    "        return float(budget.strip(\"$\").replace(\",\",\"\"))\n",
    "final_data[\"Budget\"] = final_data[\"Budget\"].apply(transform_budget)"
   ]
  },
  {
   "cell_type": "code",
   "execution_count": 188,
   "metadata": {
    "collapsed": false
   },
   "outputs": [],
   "source": [
    "final_data.loc[(final_data[\"Genre\"] == \"Romantic Comedy\") | (final_data[\"Genre\"] == \"Family Comedy\") | (final_data[\"Genre\"] == \"Action Comedy\")|\n",
    "          (final_data[\"Genre\"] == \"Horror Comedy\")|(final_data[\"Genre\"] == \"Sports Comedy\")|(final_data[\"Genre\"] == \"Crime Comedy\")|(final_data[\"Genre\"] == \"Adventure Comedy\")\n",
    "               |(final_data[\"Genre\"] == \"Western Comedy\"),\"Genre\"] = \"Comedy\" "
   ]
  },
  {
   "cell_type": "code",
   "execution_count": 189,
   "metadata": {
    "collapsed": true
   },
   "outputs": [],
   "source": [
    "final_data.loc[(final_data[\"Genre\"] == \"Comedy / Drama\") | (final_data[\"Genre\"] == \"Period Drama\") | (final_data[\"Genre\"] == \"Drama / Thriller\")|\n",
    "          (final_data[\"Genre\"] == \"Crime Drama\")|(final_data[\"Genre\"] == \"Sports Drama\")|(final_data[\"Genre\"] == \" Music Drama\")|(final_data[\"Genre\"] == \"Action Drama\")|\n",
    "             (final_data[\"Genre\"] == \"Family\")|(final_data[\"Genre\"] == \"Musical\")|\n",
    "              (final_data[\"Genre\"] == \"Historical Drama\")|(final_data[\"Genre\"] == \"Western\")|\n",
    "               (final_data[\"Genre\"] == \"War\")|(final_data[\"Genre\"] == \"War Drama\")|\n",
    "               (final_data[\"Genre\"] == \"Historical Epic\")|(final_data[\"Genre\"] == \"Music Drama\")\n",
    "               |(final_data[\"Genre\"] == \"Concert\"),\"Genre\"] = \"Drama\" "
   ]
  },
  {
   "cell_type": "code",
   "execution_count": 190,
   "metadata": {
    "collapsed": true
   },
   "outputs": [],
   "source": [
    "final_data.loc[(final_data[\"Genre\"] == \"Action Horror\") | (final_data[\"Genre\"] == \"Horror Thriller\") | (final_data[\"Genre\"] == \"Period Horror\"),\"Genre\"] = \"Horror\" "
   ]
  },
  {
   "cell_type": "code",
   "execution_count": 191,
   "metadata": {
    "collapsed": true
   },
   "outputs": [],
   "source": [
    "final_data.loc[(final_data[\"Genre\"] == \"Crime Thriller\") | (final_data[\"Genre\"] == \"Comedy Thriller\") | (final_data[\"Genre\"] == \"Romantic Thriller\"),\"Genre\"] = \"Thriller\" "
   ]
  },
  {
   "cell_type": "code",
   "execution_count": 192,
   "metadata": {
    "collapsed": true
   },
   "outputs": [],
   "source": [
    "final_data.loc[(final_data[\"Genre\"] == \"Action / Adventure\") | (final_data[\"Genre\"] == \"Action Thriller\") | (final_data[\"Genre\"] == \"Action / Crime\")|\n",
    "          (final_data[\"Genre\"] == \"Period Action\")|(final_data[\"Genre\"] == \"Crime\"),\"Genre\"] = \"Action\" "
   ]
  },
  {
   "cell_type": "code",
   "execution_count": 193,
   "metadata": {
    "collapsed": true
   },
   "outputs": [],
   "source": [
    "final_data.loc[(final_data[\"Genre\"] == \"Family Adventure\") | (final_data[\"Genre\"] == \"Period Adventure\") | (final_data[\"Genre\"] == \"Romantic Adventure\"),\"Genre\"] = \"Adventure\" "
   ]
  },
  {
   "cell_type": "code",
   "execution_count": 194,
   "metadata": {
    "collapsed": true
   },
   "outputs": [],
   "source": [
    "final_data.loc[(final_data[\"Genre\"] == \"Fantasy Drama\") | (final_data[\"Genre\"] == \"Fantasy Comedy\") | (final_data[\"Genre\"] == \"Action Fantasy\"),\"Genre\"] = \"Fantasy\" "
   ]
  },
  {
   "cell_type": "code",
   "execution_count": 195,
   "metadata": {
    "collapsed": false
   },
   "outputs": [],
   "source": [
    "final_data.loc[(final_data[\"Genre\"] == \"Sci-Fi Comedy\") | (final_data[\"Genre\"] == \"Sci-Fi Fantasy\") | (final_data[\"Genre\"] == \"Sci-Fi Horror\")|\n",
    "          (final_data[\"Genre\"] == \"Sci-Fi Adventure\")|(final_data[\"Genre\"] == \"Sci-Fi Action\")|(final_data[\"Genre\"] == \"Sci-Fi Thriller\"),\"Genre\"] = \"Sci-Fi\" "
   ]
  },
  {
   "cell_type": "code",
   "execution_count": 196,
   "metadata": {
    "collapsed": true
   },
   "outputs": [],
   "source": [
    "final_data.loc[(final_data[\"Genre\"] == \"Foreign / Action\") | (final_data[\"Genre\"] == \"Foreign / Horror\"),\"Genre\"] = \"Foreign\" "
   ]
  },
  {
   "cell_type": "code",
   "execution_count": 197,
   "metadata": {
    "collapsed": true
   },
   "outputs": [],
   "source": [
    "final_data = final_data.reset_index(drop=True)"
   ]
  },
  {
   "cell_type": "code",
   "execution_count": 201,
   "metadata": {
    "collapsed": false
   },
   "outputs": [
    {
     "name": "stderr",
     "output_type": "stream",
     "text": [
      "/Users/Manoj/anaconda/lib/python3.5/site-packages/ipykernel/__main__.py:6: UserWarning: Boolean Series key will be reindexed to match DataFrame index.\n"
     ]
    }
   ],
   "source": [
    "for i in range(len(final_data)):\n",
    "    item= final_data.ix[i,\"Release_Date\"]\n",
    "    range_max = item + timedelta(days=7)\n",
    "    range_min = item - timedelta(days=7)\n",
    "    result = final_data[final_data[\"Release_Date\"]<=range_max]\n",
    "    final_res = len(result[range_min<=final_data[\"Release_Date\"]])\n",
    "    final_data.ix[i,\"Competitors\"] = final_res"
   ]
  },
  {
   "cell_type": "code",
   "execution_count": 202,
   "metadata": {
    "collapsed": true
   },
   "outputs": [],
   "source": [
    "import string\n",
    "def strip_punctuation(line):\n",
    "    line1 = \"\".join(l for l in line if l not in string.punctuation)\n",
    "    return line1.replace(\" \",\"\")\n",
    "final_data[\"clean_movie\"] = final_data[\"Movie\"].apply(strip_punctuation)"
   ]
  },
  {
   "cell_type": "code",
   "execution_count": null,
   "metadata": {
    "collapsed": true
   },
   "outputs": [],
   "source": [
    "def get_month(x):\n",
    "    return x.strftime('%B')\n",
    "final_data[\"month\"] = final_data[\"Release_Date\"].apply(get_month)"
   ]
  },
  {
   "cell_type": "code",
   "execution_count": null,
   "metadata": {
    "collapsed": true
   },
   "outputs": [],
   "source": [
    "def get_year(x):\n",
    "    return x.strftime('%Y')\n",
    "final_data[\"year\"] = final_data[\"Release_Date\"].apply(get_year)"
   ]
  },
  {
   "cell_type": "markdown",
   "metadata": {},
   "source": [
    "### Adjust Gross Revenue for inflation"
   ]
  },
  {
   "cell_type": "code",
   "execution_count": null,
   "metadata": {
    "collapsed": true
   },
   "outputs": [],
   "source": [
    "def inflation_adjust(x):\n",
    "    inflation = {\n",
    "    2004: 1.27,\n",
    "    2005: 1.23,\n",
    "    2006: 1.19,\n",
    "    2007: 1.16,\n",
    "    2008: 1.12,\n",
    "    2009: 1.12,\n",
    "    2010: 1.10,\n",
    "    2011: 1.07,\n",
    "    2012: 1.05,\n",
    "    2013: 1.03,\n",
    "    2014: 1.01,\n",
    "    2015: 1.01,\n",
    "    2016: 1.00\n",
    "    }\n",
    "    return float(inflation[int(x)])\n",
    "final_data[\"Gross_inflate\"] = final_data[\"Gross\"].mul(final_data[\"year\"].apply(inflation_adjust))\n",
    "final_data[\"Budget_inflate\"] = final_data[\"Budget\"].mul(final_data[\"year\"].apply(inflation_adjust))"
   ]
  },
  {
   "cell_type": "markdown",
   "metadata": {},
   "source": [
    "### Read Actors' data "
   ]
  },
  {
   "cell_type": "code",
   "execution_count": 204,
   "metadata": {
    "collapsed": false
   },
   "outputs": [],
   "source": [
    "actors = pd.read_csv(\"/Users/Manoj/Documents/metis/actors.csv\",converters={\"movies\":lambda x:x.strip(\"[]\").split(\",\")})"
   ]
  },
  {
   "cell_type": "code",
   "execution_count": 206,
   "metadata": {
    "collapsed": false
   },
   "outputs": [
    {
     "name": "stdout",
     "output_type": "stream",
     "text": [
      "                                            movies        names\n",
      "0               Batman v Superman: Dawn of Justice    Amy Adams\n",
      "1                                         Big Eyes    Amy Adams\n",
      "2                                          Lullaby    Amy Adams\n",
      "3                                       Her (2013)    Amy Adams\n",
      "4                                  American Hustle    Amy Adams\n",
      "5                                     Man of Steel    Amy Adams\n",
      "6                                      On the Road    Amy Adams\n",
      "7                           Trouble with the Curve    Amy Adams\n",
      "8                                       The Master    Amy Adams\n",
      "9                                      The Muppets    Amy Adams\n",
      "10                                     The Fighter    Amy Adams\n",
      "11                                       Leap Year    Amy Adams\n",
      "12                                   Julie & Julia    Amy Adams\n",
      "13  Night at the Museum: Battle of the Smithsonian    Amy Adams\n",
      "14                               Sunshine Cleaning    Amy Adams\n",
      "15                                           Doubt    Amy Adams\n",
      "16                  Miss Pettigrew Lives for a Day    Amy Adams\n",
      "17                            Charlie Wilson's War    Amy Adams\n",
      "18                                       Enchanted    Amy Adams\n",
      "19                                 Underdog(Voice)    Amy Adams\n",
      "20     Talladega Nights: The Ballad of Ricky Bobby    Amy Adams\n",
      "21                                  Standing Still    Amy Adams\n",
      "22                                         Junebug    Amy Adams\n",
      "23                                The Wedding Date    Amy Adams\n",
      "24                             Catch Me If You Can    Amy Adams\n",
      "25                                    Serving Sara    Amy Adams\n",
      "26                              Drop Dead Gorgeous    Amy Adams\n",
      "27              Batman v Superman: Dawn of Justice  Ben Affleck\n",
      "28                                       Gone Girl  Ben Affleck\n",
      "29                                   Runner Runner  Ben Affleck\n",
      "30                                   To The Wonder  Ben Affleck\n",
      "31                                            Argo  Ben Affleck\n",
      "32                                 The Company Men  Ben Affleck\n",
      "33                                        The Town  Ben Affleck\n",
      "34                                         Extract  Ben Affleck\n",
      "35                                   State of Play  Ben Affleck\n",
      "36                     He's Just Not That Into You  Ben Affleck\n",
      "37                                    Smokin' Aces  Ben Affleck\n",
      "38                                   Hollywoodland  Ben Affleck\n",
      "39                                Clerks II(Cameo)  Ben Affleck\n"
     ]
    }
   ],
   "source": [
    "actor_temp = pd.DataFrame(columns=[\"names\",\"movies\"])\n",
    "for i in range(len(actors)):\n",
    "    item=actors.ix[i,\"movies\"]\n",
    "    \n",
    "    \n",
    "    for j in range(len(item)):\n",
    "        mov = item[j].strip(\" \").strip(\"'\").strip(\"\\\"\")\n",
    "        temp = pd.DataFrame({'names':actors.ix[i,\"names\"],'movies':mov},index=[0])\n",
    "        actor_temp = actor_temp.append(temp)\n",
    "actor_temp = actor_temp.reset_index(drop=True)\n",
    "print(actor_temp.head(n=40))"
   ]
  },
  {
   "cell_type": "code",
   "execution_count": 208,
   "metadata": {
    "collapsed": true
   },
   "outputs": [],
   "source": [
    "\n",
    "actor_temp[\"clean_movie\"] = actor_temp[\"movies\"].apply(strip_punctuation)\n",
    "\n"
   ]
  },
  {
   "cell_type": "code",
   "execution_count": 210,
   "metadata": {
    "collapsed": false
   },
   "outputs": [
    {
     "name": "stdout",
     "output_type": "stream",
     "text": [
      "{0: 230, 1: 196, 2: 234, 3: 262, 4: 239, 5: 149, 6: 112, 7: 57, 8: 30, 9: 18, 10: 9, 11: 6, 12: 4, 13: 4, 14: 1, 19: 1}\n"
     ]
    }
   ],
   "source": [
    "temp_dict = {}\n",
    "for i in range(len(final_data)):\n",
    "    item = final_data.ix[i,\"clean_movie\"]\n",
    "    item = item.strip(\" \")\n",
    "    \n",
    "    if any(actor_temp[actor_temp[\"clean_movie\"].str.strip(\" \") == (item)]):\n",
    "        row = actor_temp[actor_temp[\"clean_movie\"] == (item)].index.tolist()\n",
    "        if len(row) not in temp_dict:\n",
    "            temp_dict[len(row)] = 1\n",
    "        else:\n",
    "            temp_dict[len(row)] += 1\n",
    "        \n",
    "            \n",
    "        \n",
    "        actor_temp.ix[row,\"Gross\"] = final_data.ix[i,\"Gross\"]\n",
    "        actor_temp.ix[row,\"Release_Date\"] = final_data.ix[i,\"Release_Date\"]\n",
    "        \n",
    "print(temp_dict)\n",
    "    "
   ]
  },
  {
   "cell_type": "code",
   "execution_count": 211,
   "metadata": {
    "collapsed": false,
    "scrolled": true
   },
   "outputs": [
    {
     "data": {
      "text/html": [
       "<div>\n",
       "<table border=\"1\" class=\"dataframe\">\n",
       "  <thead>\n",
       "    <tr style=\"text-align: right;\">\n",
       "      <th></th>\n",
       "      <th>movies</th>\n",
       "      <th>names</th>\n",
       "      <th>clean_movie</th>\n",
       "      <th>Gross</th>\n",
       "      <th>Release_Date</th>\n",
       "    </tr>\n",
       "  </thead>\n",
       "  <tbody>\n",
       "    <tr>\n",
       "      <th>0</th>\n",
       "      <td>Batman v Superman: Dawn of Justice</td>\n",
       "      <td>Amy Adams</td>\n",
       "      <td>BatmanvSupermanDawnofJustice</td>\n",
       "      <td>330360194.0</td>\n",
       "      <td>2016-03-25</td>\n",
       "    </tr>\n",
       "    <tr>\n",
       "      <th>1</th>\n",
       "      <td>Big Eyes</td>\n",
       "      <td>Amy Adams</td>\n",
       "      <td>BigEyes</td>\n",
       "      <td>NaN</td>\n",
       "      <td>NaT</td>\n",
       "    </tr>\n",
       "    <tr>\n",
       "      <th>2</th>\n",
       "      <td>Lullaby</td>\n",
       "      <td>Amy Adams</td>\n",
       "      <td>Lullaby</td>\n",
       "      <td>NaN</td>\n",
       "      <td>NaT</td>\n",
       "    </tr>\n",
       "    <tr>\n",
       "      <th>3</th>\n",
       "      <td>Her (2013)</td>\n",
       "      <td>Amy Adams</td>\n",
       "      <td>Her2013</td>\n",
       "      <td>25568251.0</td>\n",
       "      <td>2013-12-18</td>\n",
       "    </tr>\n",
       "  </tbody>\n",
       "</table>\n",
       "</div>"
      ],
      "text/plain": [
       "                               movies      names  \\\n",
       "0  Batman v Superman: Dawn of Justice  Amy Adams   \n",
       "1                            Big Eyes  Amy Adams   \n",
       "2                             Lullaby  Amy Adams   \n",
       "3                          Her (2013)  Amy Adams   \n",
       "\n",
       "                    clean_movie        Gross Release_Date  \n",
       "0  BatmanvSupermanDawnofJustice  330360194.0   2016-03-25  \n",
       "1                       BigEyes          NaN          NaT  \n",
       "2                       Lullaby          NaN          NaT  \n",
       "3                       Her2013   25568251.0   2013-12-18  "
      ]
     },
     "execution_count": 211,
     "metadata": {},
     "output_type": "execute_result"
    }
   ],
   "source": [
    "actor_temp.head(n=4)"
   ]
  },
  {
   "cell_type": "code",
   "execution_count": 212,
   "metadata": {
    "collapsed": true
   },
   "outputs": [],
   "source": [
    "actor_temp = actor_temp.dropna(subset=[\"Gross\"])"
   ]
  },
  {
   "cell_type": "code",
   "execution_count": 213,
   "metadata": {
    "collapsed": false
   },
   "outputs": [
    {
     "data": {
      "text/plain": [
       "4913"
      ]
     },
     "execution_count": 213,
     "metadata": {},
     "output_type": "execute_result"
    }
   ],
   "source": [
    "len(actor_temp)"
   ]
  },
  {
   "cell_type": "markdown",
   "metadata": {},
   "source": [
    "### Average Gross Revenue of the actors' at each movie level"
   ]
  },
  {
   "cell_type": "code",
   "execution_count": 214,
   "metadata": {
    "collapsed": false
   },
   "outputs": [
    {
     "name": "stderr",
     "output_type": "stream",
     "text": [
      "/Users/Manoj/anaconda/lib/python3.5/site-packages/ipykernel/__main__.py:4: SettingWithCopyWarning: \n",
      "A value is trying to be set on a copy of a slice from a DataFrame\n",
      "\n",
      "See the caveats in the documentation: http://pandas.pydata.org/pandas-docs/stable/indexing.html#indexing-view-versus-copy\n"
     ]
    }
   ],
   "source": [
    "actor_final = pd.DataFrame(columns=[\"name\",\"Movie\",\"Release_Date\",\"Average_Gross\",\"clean_movie\"])\n",
    "for name, group in actor_temp.groupby(actor_temp[\"names\"]):\n",
    "    \n",
    "    group.sort_values(by=['Release_Date'],ascending=True,inplace=True)\n",
    "    group = group.reset_index(drop=True)\n",
    "    group[\"cum_sum\"] = group[\"Gross\"].cumsum()\n",
    "    group[\"Average_Gross\"] = [group.ix[i,'cum_sum']/(i+1) for i in range(len(group))]\n",
    "    for i in range(len(group)):\n",
    "        temp = pd.DataFrame({'name':[name],'clean_movie':[group.ix[i,\"clean_movie\"]],'Movie':[group.ix[i,\"movies\"]],'Gross':[group.ix[i,\"Gross\"]],'Release_Date':[group.ix[i,\"Release_Date\"]],'Average_Gross':[group.ix[i,\"Average_Gross\"]]})\n",
    "                           \n",
    "        actor_final=actor_final.append(temp)"
   ]
  },
  {
   "cell_type": "code",
   "execution_count": 215,
   "metadata": {
    "collapsed": false
   },
   "outputs": [
    {
     "data": {
      "text/html": [
       "<div>\n",
       "<table border=\"1\" class=\"dataframe\">\n",
       "  <thead>\n",
       "    <tr style=\"text-align: right;\">\n",
       "      <th></th>\n",
       "      <th>Average_Gross</th>\n",
       "      <th>Gross</th>\n",
       "      <th>Movie</th>\n",
       "      <th>Release_Date</th>\n",
       "      <th>clean_movie</th>\n",
       "      <th>name</th>\n",
       "    </tr>\n",
       "  </thead>\n",
       "  <tbody>\n",
       "    <tr>\n",
       "      <th>0</th>\n",
       "      <td>8725813.0</td>\n",
       "      <td>8725813.0</td>\n",
       "      <td>Suspect Zero</td>\n",
       "      <td>2004-08-27</td>\n",
       "      <td>SuspectZero</td>\n",
       "      <td>Aaron Eckhart</td>\n",
       "    </tr>\n",
       "    <tr>\n",
       "      <th>0</th>\n",
       "      <td>16759661.0</td>\n",
       "      <td>24793509.0</td>\n",
       "      <td>Thank You for Smoking</td>\n",
       "      <td>2006-03-17</td>\n",
       "      <td>ThankYouforSmoking</td>\n",
       "      <td>Aaron Eckhart</td>\n",
       "    </tr>\n",
       "    <tr>\n",
       "      <th>0</th>\n",
       "      <td>11299580.0</td>\n",
       "      <td>379418.0</td>\n",
       "      <td>Conversations with Other Women</td>\n",
       "      <td>2006-08-11</td>\n",
       "      <td>ConversationswithOtherWomen</td>\n",
       "      <td>Aaron Eckhart</td>\n",
       "    </tr>\n",
       "    <tr>\n",
       "      <th>0</th>\n",
       "      <td>14110955.0</td>\n",
       "      <td>22545080.0</td>\n",
       "      <td>The Black Dahlia</td>\n",
       "      <td>2006-09-15</td>\n",
       "      <td>TheBlackDahlia</td>\n",
       "      <td>Aaron Eckhart</td>\n",
       "    </tr>\n",
       "    <tr>\n",
       "      <th>0</th>\n",
       "      <td>117957835.6</td>\n",
       "      <td>533345358.0</td>\n",
       "      <td>The Dark Knight</td>\n",
       "      <td>2008-07-18</td>\n",
       "      <td>TheDarkKnight</td>\n",
       "      <td>Aaron Eckhart</td>\n",
       "    </tr>\n",
       "  </tbody>\n",
       "</table>\n",
       "</div>"
      ],
      "text/plain": [
       "   Average_Gross        Gross                           Movie Release_Date  \\\n",
       "0      8725813.0    8725813.0                    Suspect Zero   2004-08-27   \n",
       "0     16759661.0   24793509.0           Thank You for Smoking   2006-03-17   \n",
       "0     11299580.0     379418.0  Conversations with Other Women   2006-08-11   \n",
       "0     14110955.0   22545080.0                The Black Dahlia   2006-09-15   \n",
       "0    117957835.6  533345358.0                 The Dark Knight   2008-07-18   \n",
       "\n",
       "                   clean_movie           name  \n",
       "0                  SuspectZero  Aaron Eckhart  \n",
       "0           ThankYouforSmoking  Aaron Eckhart  \n",
       "0  ConversationswithOtherWomen  Aaron Eckhart  \n",
       "0               TheBlackDahlia  Aaron Eckhart  \n",
       "0                TheDarkKnight  Aaron Eckhart  "
      ]
     },
     "execution_count": 215,
     "metadata": {},
     "output_type": "execute_result"
    }
   ],
   "source": [
    "actor_final.head()"
   ]
  },
  {
   "cell_type": "code",
   "execution_count": 216,
   "metadata": {
    "collapsed": true
   },
   "outputs": [],
   "source": [
    "actor_final = actor_final.reset_index(drop=True)"
   ]
  },
  {
   "cell_type": "code",
   "execution_count": 222,
   "metadata": {
    "collapsed": true
   },
   "outputs": [],
   "source": [
    "actor_final.to_csv(\"/Users/Manoj/Documents/metis/actor_final.csv\")"
   ]
  },
  {
   "cell_type": "code",
   "execution_count": null,
   "metadata": {
    "collapsed": true
   },
   "outputs": [],
   "source": []
  },
  {
   "cell_type": "code",
   "execution_count": 220,
   "metadata": {
    "collapsed": false
   },
   "outputs": [
    {
     "name": "stderr",
     "output_type": "stream",
     "text": [
      "/Users/Manoj/anaconda/lib/python3.5/site-packages/ipykernel/__main__.py:14: UserWarning: This pattern has match groups. To actually get the groups, use str.extract.\n",
      "/Users/Manoj/anaconda/lib/python3.5/site-packages/ipykernel/__main__.py:15: UserWarning: This pattern has match groups. To actually get the groups, use str.extract.\n"
     ]
    }
   ],
   "source": [
    "final_data[\"Actor1\"] = 0\n",
    "final_data[\"Actor2\"] = 0\n",
    "final_data[\"Actor3\"] = 0\n",
    "for i in range(len(final_data)):\n",
    "    if isinstance(final_data.ix[i,\"Actors\"],float):\n",
    "         continue\n",
    "    name = final_data.ix[i,\"Actors\"].strip(\"[]\").split(\",\")\n",
    "    movie = final_data.ix[i,\"clean_movie\"]\n",
    "   \n",
    "    for j in range(len(name)):\n",
    "        temp = name[j].strip(\" \").strip(\"'\").strip(\"\\\"\")\n",
    "        \n",
    "       \n",
    "        if any(actor_final[(actor_final[\"name\"].str.contains(temp)) & (actor_final[\"clean_movie\"] == (movie))]):\n",
    "            row = actor_final[(actor_final[\"name\"].str.contains(temp)) & (actor_final[\"clean_movie\"]==(movie))].index.tolist()\n",
    "            if len(row) == 0:\n",
    "                continue\n",
    "            if len(row) > 1:\n",
    "                print(\"More than one match\",row)\n",
    "            else:\n",
    "                if j == 0:\n",
    "                    \n",
    "                    final_data.ix[i,\"Actor1\"] = actor_final.ix[row[0],\"Average_Gross\"]\n",
    "                elif j==1:\n",
    "                    \n",
    "                    final_data.ix[i,\"Actor2\"] = actor_final.ix[row[0],\"Average_Gross\"]\n",
    "                else:\n",
    "                    \n",
    "                    final_data.ix[i,\"Actor3\"] = actor_final.ix[row[0],\"Average_Gross\"]\n",
    "\n",
    "                    \n",
    "                    \n",
    "                \n",
    "           \n"
   ]
  },
  {
   "cell_type": "code",
   "execution_count": 221,
   "metadata": {
    "collapsed": false
   },
   "outputs": [
    {
     "data": {
      "text/html": [
       "<div>\n",
       "<table border=\"1\" class=\"dataframe\">\n",
       "  <thead>\n",
       "    <tr style=\"text-align: right;\">\n",
       "      <th></th>\n",
       "      <th>Release_Date</th>\n",
       "      <th>Movie</th>\n",
       "      <th>Gross</th>\n",
       "      <th>Genre</th>\n",
       "      <th>Run_Time</th>\n",
       "      <th>Rating</th>\n",
       "      <th>Budget</th>\n",
       "      <th>Num_theatres</th>\n",
       "      <th>Actors</th>\n",
       "      <th>Producer</th>\n",
       "      <th>Writer</th>\n",
       "      <th>Director</th>\n",
       "      <th>ROI</th>\n",
       "      <th>Competitors</th>\n",
       "      <th>clean_movie</th>\n",
       "      <th>Actor1</th>\n",
       "      <th>Actor2</th>\n",
       "      <th>Actor3</th>\n",
       "    </tr>\n",
       "  </thead>\n",
       "  <tbody>\n",
       "    <tr>\n",
       "      <th>0</th>\n",
       "      <td>2004-04-09</td>\n",
       "      <td>The Alamo (2004)</td>\n",
       "      <td>22414961</td>\n",
       "      <td>Drama</td>\n",
       "      <td>137</td>\n",
       "      <td>PG-13</td>\n",
       "      <td>107000000.0</td>\n",
       "      <td>2609</td>\n",
       "      <td>['Billy Bob Thornton', 'Dennis Quaid', 'Patric...</td>\n",
       "      <td>Ron Howard</td>\n",
       "      <td>Leslie Bohem</td>\n",
       "      <td>John Lee Hancock</td>\n",
       "      <td>-0.790514</td>\n",
       "      <td>13.0</td>\n",
       "      <td>TheAlamo2004</td>\n",
       "      <td>2.241496e+07</td>\n",
       "      <td>22414961.0</td>\n",
       "      <td>22414961.0</td>\n",
       "    </tr>\n",
       "    <tr>\n",
       "      <th>1</th>\n",
       "      <td>2004-12-25</td>\n",
       "      <td>Darkness</td>\n",
       "      <td>22163442</td>\n",
       "      <td>Horror</td>\n",
       "      <td>102</td>\n",
       "      <td>PG-13</td>\n",
       "      <td>10600000.0</td>\n",
       "      <td>1718</td>\n",
       "      <td>['Anna Paquin', 'Lena Olin']</td>\n",
       "      <td>NaN</td>\n",
       "      <td>NaN</td>\n",
       "      <td>NaN</td>\n",
       "      <td>1.090891</td>\n",
       "      <td>4.0</td>\n",
       "      <td>Darkness</td>\n",
       "      <td>2.216344e+07</td>\n",
       "      <td>0.0</td>\n",
       "      <td>0.0</td>\n",
       "    </tr>\n",
       "    <tr>\n",
       "      <th>2</th>\n",
       "      <td>2004-01-16</td>\n",
       "      <td>Torque</td>\n",
       "      <td>21215059</td>\n",
       "      <td>Action</td>\n",
       "      <td>81</td>\n",
       "      <td>PG-13</td>\n",
       "      <td>40000000.0</td>\n",
       "      <td>2463</td>\n",
       "      <td>['Ice Cube', 'Adam Scott']</td>\n",
       "      <td>Neal H. Moritz</td>\n",
       "      <td>NaN</td>\n",
       "      <td>NaN</td>\n",
       "      <td>-0.469624</td>\n",
       "      <td>7.0</td>\n",
       "      <td>Torque</td>\n",
       "      <td>2.121506e+07</td>\n",
       "      <td>21215059.0</td>\n",
       "      <td>0.0</td>\n",
       "    </tr>\n",
       "    <tr>\n",
       "      <th>3</th>\n",
       "      <td>2004-12-17</td>\n",
       "      <td>Flight of the Phoenix</td>\n",
       "      <td>21009180</td>\n",
       "      <td>Adventure</td>\n",
       "      <td>120</td>\n",
       "      <td>PG-13</td>\n",
       "      <td>45000000.0</td>\n",
       "      <td>2604</td>\n",
       "      <td>['Dennis Quaid', 'Tyrese Gibson', 'Giovanni Ri...</td>\n",
       "      <td>John Davis</td>\n",
       "      <td>Scott Frank</td>\n",
       "      <td>John Moore</td>\n",
       "      <td>-0.533129</td>\n",
       "      <td>9.0</td>\n",
       "      <td>FlightofthePhoenix</td>\n",
       "      <td>7.672165e+07</td>\n",
       "      <td>21009180.0</td>\n",
       "      <td>29385928.5</td>\n",
       "    </tr>\n",
       "    <tr>\n",
       "      <th>4</th>\n",
       "      <td>2004-08-06</td>\n",
       "      <td>Little Black Book</td>\n",
       "      <td>20698668</td>\n",
       "      <td>Comedy</td>\n",
       "      <td>105</td>\n",
       "      <td>PG-13</td>\n",
       "      <td>35000000.0</td>\n",
       "      <td>2445</td>\n",
       "      <td>['Brittany Murphy', 'Holly Hunter', 'Ron Livin...</td>\n",
       "      <td>NaN</td>\n",
       "      <td>Elisa Bell</td>\n",
       "      <td>Nick Hurran</td>\n",
       "      <td>-0.408609</td>\n",
       "      <td>11.0</td>\n",
       "      <td>LittleBlackBook</td>\n",
       "      <td>2.069867e+07</td>\n",
       "      <td>20698668.0</td>\n",
       "      <td>20698668.0</td>\n",
       "    </tr>\n",
       "    <tr>\n",
       "      <th>5</th>\n",
       "      <td>2004-07-30</td>\n",
       "      <td>Harold and Kumar Go to White Castle</td>\n",
       "      <td>18250550</td>\n",
       "      <td>Comedy</td>\n",
       "      <td>88</td>\n",
       "      <td>R</td>\n",
       "      <td>9000000.0</td>\n",
       "      <td>2163</td>\n",
       "      <td>['John Cho', 'Kal Penn', 'Neil Patrick Harris']</td>\n",
       "      <td>David Brewington (executive)</td>\n",
       "      <td>Jon Hurwitz</td>\n",
       "      <td>NaN</td>\n",
       "      <td>1.027839</td>\n",
       "      <td>12.0</td>\n",
       "      <td>HaroldandKumarGotoWhiteCastle</td>\n",
       "      <td>0.000000e+00</td>\n",
       "      <td>18250550.0</td>\n",
       "      <td>18250550.0</td>\n",
       "    </tr>\n",
       "    <tr>\n",
       "      <th>6</th>\n",
       "      <td>2004-04-30</td>\n",
       "      <td>Laws of Attraction</td>\n",
       "      <td>17871255</td>\n",
       "      <td>Comedy</td>\n",
       "      <td>87</td>\n",
       "      <td>PG-13</td>\n",
       "      <td>32000000.0</td>\n",
       "      <td>2449</td>\n",
       "      <td>['Pierce Brosnan', 'Julianne Moore', 'Michael ...</td>\n",
       "      <td>Mark Gordon (executive)</td>\n",
       "      <td>Aline Brosh McKenna</td>\n",
       "      <td>NaN</td>\n",
       "      <td>-0.441523</td>\n",
       "      <td>11.0</td>\n",
       "      <td>LawsofAttraction</td>\n",
       "      <td>1.787126e+07</td>\n",
       "      <td>17871255.0</td>\n",
       "      <td>17871255.0</td>\n",
       "    </tr>\n",
       "    <tr>\n",
       "      <th>7</th>\n",
       "      <td>2004-02-20</td>\n",
       "      <td>Eurotrip</td>\n",
       "      <td>17771387</td>\n",
       "      <td>Comedy</td>\n",
       "      <td>92</td>\n",
       "      <td>R</td>\n",
       "      <td>25000000.0</td>\n",
       "      <td>2544</td>\n",
       "      <td>['Michelle Trachtenberg', 'Matt Damon* (Cameo)']</td>\n",
       "      <td>Alec Berg</td>\n",
       "      <td>Alec Berg</td>\n",
       "      <td>Jeff Schaffer</td>\n",
       "      <td>-0.289145</td>\n",
       "      <td>6.0</td>\n",
       "      <td>Eurotrip</td>\n",
       "      <td>1.777139e+07</td>\n",
       "      <td>0.0</td>\n",
       "      <td>0.0</td>\n",
       "    </tr>\n",
       "    <tr>\n",
       "      <th>8</th>\n",
       "      <td>2004-01-09</td>\n",
       "      <td>My Baby's Daddy</td>\n",
       "      <td>17669317</td>\n",
       "      <td>Comedy</td>\n",
       "      <td>86</td>\n",
       "      <td>PG-13</td>\n",
       "      <td>12000000.0</td>\n",
       "      <td>1448</td>\n",
       "      <td>NaN</td>\n",
       "      <td>Peter Safran (executive)</td>\n",
       "      <td>NaN</td>\n",
       "      <td>NaN</td>\n",
       "      <td>0.472443</td>\n",
       "      <td>5.0</td>\n",
       "      <td>MyBabysDaddy</td>\n",
       "      <td>0.000000e+00</td>\n",
       "      <td>0.0</td>\n",
       "      <td>0.0</td>\n",
       "    </tr>\n",
       "    <tr>\n",
       "      <th>9</th>\n",
       "      <td>2004-11-12</td>\n",
       "      <td>Seed of Chucky</td>\n",
       "      <td>17083732</td>\n",
       "      <td>Comedy</td>\n",
       "      <td>87</td>\n",
       "      <td>R</td>\n",
       "      <td>12000000.0</td>\n",
       "      <td>2062</td>\n",
       "      <td>[]</td>\n",
       "      <td>NaN</td>\n",
       "      <td>NaN</td>\n",
       "      <td>NaN</td>\n",
       "      <td>0.423644</td>\n",
       "      <td>9.0</td>\n",
       "      <td>SeedofChucky</td>\n",
       "      <td>0.000000e+00</td>\n",
       "      <td>0.0</td>\n",
       "      <td>0.0</td>\n",
       "    </tr>\n",
       "  </tbody>\n",
       "</table>\n",
       "</div>"
      ],
      "text/plain": [
       "  Release_Date                                Movie     Gross      Genre  \\\n",
       "0   2004-04-09                     The Alamo (2004)  22414961      Drama   \n",
       "1   2004-12-25                             Darkness  22163442     Horror   \n",
       "2   2004-01-16                               Torque  21215059     Action   \n",
       "3   2004-12-17                Flight of the Phoenix  21009180  Adventure   \n",
       "4   2004-08-06                    Little Black Book  20698668     Comedy   \n",
       "5   2004-07-30  Harold and Kumar Go to White Castle  18250550     Comedy   \n",
       "6   2004-04-30                   Laws of Attraction  17871255     Comedy   \n",
       "7   2004-02-20                             Eurotrip  17771387     Comedy   \n",
       "8   2004-01-09                      My Baby's Daddy  17669317     Comedy   \n",
       "9   2004-11-12                       Seed of Chucky  17083732     Comedy   \n",
       "\n",
       "   Run_Time Rating       Budget  Num_theatres  \\\n",
       "0       137  PG-13  107000000.0          2609   \n",
       "1       102  PG-13   10600000.0          1718   \n",
       "2        81  PG-13   40000000.0          2463   \n",
       "3       120  PG-13   45000000.0          2604   \n",
       "4       105  PG-13   35000000.0          2445   \n",
       "5        88      R    9000000.0          2163   \n",
       "6        87  PG-13   32000000.0          2449   \n",
       "7        92      R   25000000.0          2544   \n",
       "8        86  PG-13   12000000.0          1448   \n",
       "9        87      R   12000000.0          2062   \n",
       "\n",
       "                                              Actors  \\\n",
       "0  ['Billy Bob Thornton', 'Dennis Quaid', 'Patric...   \n",
       "1                       ['Anna Paquin', 'Lena Olin']   \n",
       "2                         ['Ice Cube', 'Adam Scott']   \n",
       "3  ['Dennis Quaid', 'Tyrese Gibson', 'Giovanni Ri...   \n",
       "4  ['Brittany Murphy', 'Holly Hunter', 'Ron Livin...   \n",
       "5    ['John Cho', 'Kal Penn', 'Neil Patrick Harris']   \n",
       "6  ['Pierce Brosnan', 'Julianne Moore', 'Michael ...   \n",
       "7   ['Michelle Trachtenberg', 'Matt Damon* (Cameo)']   \n",
       "8                                                NaN   \n",
       "9                                                 []   \n",
       "\n",
       "                       Producer               Writer          Director  \\\n",
       "0                    Ron Howard         Leslie Bohem  John Lee Hancock   \n",
       "1                           NaN                  NaN               NaN   \n",
       "2                Neal H. Moritz                  NaN               NaN   \n",
       "3                    John Davis          Scott Frank        John Moore   \n",
       "4                           NaN           Elisa Bell       Nick Hurran   \n",
       "5  David Brewington (executive)          Jon Hurwitz               NaN   \n",
       "6       Mark Gordon (executive)  Aline Brosh McKenna               NaN   \n",
       "7                     Alec Berg            Alec Berg     Jeff Schaffer   \n",
       "8      Peter Safran (executive)                  NaN               NaN   \n",
       "9                           NaN                  NaN               NaN   \n",
       "\n",
       "        ROI  Competitors                    clean_movie        Actor1  \\\n",
       "0 -0.790514         13.0                   TheAlamo2004  2.241496e+07   \n",
       "1  1.090891          4.0                       Darkness  2.216344e+07   \n",
       "2 -0.469624          7.0                         Torque  2.121506e+07   \n",
       "3 -0.533129          9.0             FlightofthePhoenix  7.672165e+07   \n",
       "4 -0.408609         11.0                LittleBlackBook  2.069867e+07   \n",
       "5  1.027839         12.0  HaroldandKumarGotoWhiteCastle  0.000000e+00   \n",
       "6 -0.441523         11.0               LawsofAttraction  1.787126e+07   \n",
       "7 -0.289145          6.0                       Eurotrip  1.777139e+07   \n",
       "8  0.472443          5.0                   MyBabysDaddy  0.000000e+00   \n",
       "9  0.423644          9.0                   SeedofChucky  0.000000e+00   \n",
       "\n",
       "       Actor2      Actor3  \n",
       "0  22414961.0  22414961.0  \n",
       "1         0.0         0.0  \n",
       "2  21215059.0         0.0  \n",
       "3  21009180.0  29385928.5  \n",
       "4  20698668.0  20698668.0  \n",
       "5  18250550.0  18250550.0  \n",
       "6  17871255.0  17871255.0  \n",
       "7         0.0         0.0  \n",
       "8         0.0         0.0  \n",
       "9         0.0         0.0  "
      ]
     },
     "execution_count": 221,
     "metadata": {},
     "output_type": "execute_result"
    }
   ],
   "source": [
    "final_data[:10]"
   ]
  },
  {
   "cell_type": "markdown",
   "metadata": {},
   "source": [
    "### Reading and cleaning directors' data"
   ]
  },
  {
   "cell_type": "code",
   "execution_count": 223,
   "metadata": {
    "collapsed": false
   },
   "outputs": [],
   "source": [
    "directors = pd.read_csv(\"/Users/Manoj/Documents/metis/directors.csv\",converters={\"movies\":lambda x:x.strip(\"[]\").split(\",\")})"
   ]
  },
  {
   "cell_type": "code",
   "execution_count": 224,
   "metadata": {
    "collapsed": false
   },
   "outputs": [
    {
     "data": {
      "text/html": [
       "<div>\n",
       "<table border=\"1\" class=\"dataframe\">\n",
       "  <thead>\n",
       "    <tr style=\"text-align: right;\">\n",
       "      <th></th>\n",
       "      <th>Unnamed: 0</th>\n",
       "      <th>names</th>\n",
       "      <th>movies</th>\n",
       "    </tr>\n",
       "  </thead>\n",
       "  <tbody>\n",
       "    <tr>\n",
       "      <th>0</th>\n",
       "      <td>0</td>\n",
       "      <td>Marc Abraham</td>\n",
       "      <td>['I Saw the Light',  'Flash of Genius']</td>\n",
       "    </tr>\n",
       "    <tr>\n",
       "      <th>1</th>\n",
       "      <td>1</td>\n",
       "      <td>Jim Abrahams</td>\n",
       "      <td>['Mafia!',  'Hot Shots! Part Deux',  'Hot Shot...</td>\n",
       "    </tr>\n",
       "    <tr>\n",
       "      <th>2</th>\n",
       "      <td>2</td>\n",
       "      <td>J.J. Abrams</td>\n",
       "      <td>['Star Wars: The Force Awakens',  'Star Trek I...</td>\n",
       "    </tr>\n",
       "    <tr>\n",
       "      <th>3</th>\n",
       "      <td>3</td>\n",
       "      <td>Andrew Adamson</td>\n",
       "      <td>['Mr. Pip',  'Cirque Du Soleil: Worlds Away', ...</td>\n",
       "    </tr>\n",
       "    <tr>\n",
       "      <th>4</th>\n",
       "      <td>4</td>\n",
       "      <td>Gilbert Adler</td>\n",
       "      <td>['Bordello of Blood']</td>\n",
       "    </tr>\n",
       "  </tbody>\n",
       "</table>\n",
       "</div>"
      ],
      "text/plain": [
       "   Unnamed: 0           names  \\\n",
       "0           0    Marc Abraham   \n",
       "1           1    Jim Abrahams   \n",
       "2           2     J.J. Abrams   \n",
       "3           3  Andrew Adamson   \n",
       "4           4   Gilbert Adler   \n",
       "\n",
       "                                              movies  \n",
       "0            ['I Saw the Light',  'Flash of Genius']  \n",
       "1  ['Mafia!',  'Hot Shots! Part Deux',  'Hot Shot...  \n",
       "2  ['Star Wars: The Force Awakens',  'Star Trek I...  \n",
       "3  ['Mr. Pip',  'Cirque Du Soleil: Worlds Away', ...  \n",
       "4                              ['Bordello of Blood']  "
      ]
     },
     "execution_count": 224,
     "metadata": {},
     "output_type": "execute_result"
    }
   ],
   "source": [
    "directors.head(n=5)"
   ]
  },
  {
   "cell_type": "code",
   "execution_count": 225,
   "metadata": {
    "collapsed": false
   },
   "outputs": [
    {
     "data": {
      "text/plain": [
       "list"
      ]
     },
     "execution_count": 225,
     "metadata": {},
     "output_type": "execute_result"
    }
   ],
   "source": [
    "type(directors.ix[0,\"movies\"])"
   ]
  },
  {
   "cell_type": "code",
   "execution_count": 226,
   "metadata": {
    "collapsed": true
   },
   "outputs": [],
   "source": [
    "director_temp = pd.DataFrame(columns=[\"names\",\"movies\"])\n",
    "for i in range(len(directors)):\n",
    "    item=directors.ix[i,\"movies\"]\n",
    "    \n",
    "    \n",
    "    for j in range(len(item)):\n",
    "        mov = item[j].strip(\" \").strip(\"'\").strip(\"\\\"\")\n",
    "        temp = pd.DataFrame({'names':directors.ix[i,\"names\"],'movies':mov},index=[0])\n",
    "        director_temp = director_temp.append(temp)\n",
    "director_temp = director_temp.reset_index(drop=True)\n"
   ]
  },
  {
   "cell_type": "code",
   "execution_count": 227,
   "metadata": {
    "collapsed": false
   },
   "outputs": [
    {
     "data": {
      "text/html": [
       "<div>\n",
       "<table border=\"1\" class=\"dataframe\">\n",
       "  <thead>\n",
       "    <tr style=\"text-align: right;\">\n",
       "      <th></th>\n",
       "      <th>movies</th>\n",
       "      <th>names</th>\n",
       "    </tr>\n",
       "  </thead>\n",
       "  <tbody>\n",
       "    <tr>\n",
       "      <th>0</th>\n",
       "      <td>I Saw the Light</td>\n",
       "      <td>Marc Abraham</td>\n",
       "    </tr>\n",
       "    <tr>\n",
       "      <th>1</th>\n",
       "      <td>Flash of Genius</td>\n",
       "      <td>Marc Abraham</td>\n",
       "    </tr>\n",
       "    <tr>\n",
       "      <th>2</th>\n",
       "      <td>Mafia!</td>\n",
       "      <td>Jim Abrahams</td>\n",
       "    </tr>\n",
       "    <tr>\n",
       "      <th>3</th>\n",
       "      <td>Hot Shots! Part Deux</td>\n",
       "      <td>Jim Abrahams</td>\n",
       "    </tr>\n",
       "  </tbody>\n",
       "</table>\n",
       "</div>"
      ],
      "text/plain": [
       "                 movies         names\n",
       "0       I Saw the Light  Marc Abraham\n",
       "1       Flash of Genius  Marc Abraham\n",
       "2                Mafia!  Jim Abrahams\n",
       "3  Hot Shots! Part Deux  Jim Abrahams"
      ]
     },
     "execution_count": 227,
     "metadata": {},
     "output_type": "execute_result"
    }
   ],
   "source": [
    "director_temp[:4]"
   ]
  },
  {
   "cell_type": "code",
   "execution_count": 228,
   "metadata": {
    "collapsed": true
   },
   "outputs": [],
   "source": [
    "director_temp[\"clean_movie\"] = director_temp[\"movies\"].apply(strip_punctuation)\n",
    "\n"
   ]
  },
  {
   "cell_type": "code",
   "execution_count": 229,
   "metadata": {
    "collapsed": true
   },
   "outputs": [],
   "source": [
    "\n",
    "for i in range(len(final_data)):\n",
    "    item = final_data.ix[i,\"clean_movie\"]\n",
    "    item = item.strip(\" \")\n",
    "    \n",
    "    if any(director_temp[director_temp[\"clean_movie\"].str.strip(\" \") == (item)]):\n",
    "        row = director_temp[director_temp[\"clean_movie\"] == (item)].index.tolist()\n",
    "       \n",
    "        \n",
    "            \n",
    "        \n",
    "        director_temp.ix[row,\"Gross\"] = final_data.ix[i,\"Gross\"]\n",
    "        director_temp.ix[row,\"Release_Date\"] = final_data.ix[i,\"Release_Date\"]\n",
    "        \n",
    "\n",
    "    "
   ]
  },
  {
   "cell_type": "code",
   "execution_count": 230,
   "metadata": {
    "collapsed": false
   },
   "outputs": [
    {
     "data": {
      "text/html": [
       "<div>\n",
       "<table border=\"1\" class=\"dataframe\">\n",
       "  <thead>\n",
       "    <tr style=\"text-align: right;\">\n",
       "      <th></th>\n",
       "      <th>movies</th>\n",
       "      <th>names</th>\n",
       "      <th>clean_movie</th>\n",
       "      <th>Gross</th>\n",
       "      <th>Release_Date</th>\n",
       "    </tr>\n",
       "  </thead>\n",
       "  <tbody>\n",
       "    <tr>\n",
       "      <th>0</th>\n",
       "      <td>I Saw the Light</td>\n",
       "      <td>Marc Abraham</td>\n",
       "      <td>ISawtheLight</td>\n",
       "      <td>NaN</td>\n",
       "      <td>NaT</td>\n",
       "    </tr>\n",
       "    <tr>\n",
       "      <th>1</th>\n",
       "      <td>Flash of Genius</td>\n",
       "      <td>Marc Abraham</td>\n",
       "      <td>FlashofGenius</td>\n",
       "      <td>NaN</td>\n",
       "      <td>NaT</td>\n",
       "    </tr>\n",
       "    <tr>\n",
       "      <th>2</th>\n",
       "      <td>Mafia!</td>\n",
       "      <td>Jim Abrahams</td>\n",
       "      <td>Mafia</td>\n",
       "      <td>NaN</td>\n",
       "      <td>NaT</td>\n",
       "    </tr>\n",
       "    <tr>\n",
       "      <th>3</th>\n",
       "      <td>Hot Shots! Part Deux</td>\n",
       "      <td>Jim Abrahams</td>\n",
       "      <td>HotShotsPartDeux</td>\n",
       "      <td>NaN</td>\n",
       "      <td>NaT</td>\n",
       "    </tr>\n",
       "    <tr>\n",
       "      <th>4</th>\n",
       "      <td>Hot Shots!</td>\n",
       "      <td>Jim Abrahams</td>\n",
       "      <td>HotShots</td>\n",
       "      <td>NaN</td>\n",
       "      <td>NaT</td>\n",
       "    </tr>\n",
       "    <tr>\n",
       "      <th>5</th>\n",
       "      <td>Welcome Home</td>\n",
       "      <td>Jim Abrahams</td>\n",
       "      <td>WelcomeHome</td>\n",
       "      <td>NaN</td>\n",
       "      <td>NaT</td>\n",
       "    </tr>\n",
       "    <tr>\n",
       "      <th>6</th>\n",
       "      <td>Roxy Carmichael</td>\n",
       "      <td>Jim Abrahams</td>\n",
       "      <td>RoxyCarmichael</td>\n",
       "      <td>NaN</td>\n",
       "      <td>NaT</td>\n",
       "    </tr>\n",
       "    <tr>\n",
       "      <th>7</th>\n",
       "      <td>Big Business</td>\n",
       "      <td>Jim Abrahams</td>\n",
       "      <td>BigBusiness</td>\n",
       "      <td>NaN</td>\n",
       "      <td>NaT</td>\n",
       "    </tr>\n",
       "    <tr>\n",
       "      <th>8</th>\n",
       "      <td>Ruthless People</td>\n",
       "      <td>Jim Abrahams</td>\n",
       "      <td>RuthlessPeople</td>\n",
       "      <td>NaN</td>\n",
       "      <td>NaT</td>\n",
       "    </tr>\n",
       "    <tr>\n",
       "      <th>9</th>\n",
       "      <td>Top Secret!</td>\n",
       "      <td>Jim Abrahams</td>\n",
       "      <td>TopSecret</td>\n",
       "      <td>NaN</td>\n",
       "      <td>NaT</td>\n",
       "    </tr>\n",
       "    <tr>\n",
       "      <th>10</th>\n",
       "      <td>Airplane!</td>\n",
       "      <td>Jim Abrahams</td>\n",
       "      <td>Airplane</td>\n",
       "      <td>NaN</td>\n",
       "      <td>NaT</td>\n",
       "    </tr>\n",
       "    <tr>\n",
       "      <th>11</th>\n",
       "      <td>Star Wars: The Force Awakens</td>\n",
       "      <td>J.J. Abrams</td>\n",
       "      <td>StarWarsTheForceAwakens</td>\n",
       "      <td>936662225.0</td>\n",
       "      <td>2015-12-18</td>\n",
       "    </tr>\n",
       "    <tr>\n",
       "      <th>12</th>\n",
       "      <td>Star Trek Into Darkness</td>\n",
       "      <td>J.J. Abrams</td>\n",
       "      <td>StarTrekIntoDarkness</td>\n",
       "      <td>228778661.0</td>\n",
       "      <td>2013-05-16</td>\n",
       "    </tr>\n",
       "    <tr>\n",
       "      <th>13</th>\n",
       "      <td>Super 8</td>\n",
       "      <td>J.J. Abrams</td>\n",
       "      <td>Super8</td>\n",
       "      <td>127004179.0</td>\n",
       "      <td>2011-06-10</td>\n",
       "    </tr>\n",
       "    <tr>\n",
       "      <th>14</th>\n",
       "      <td>Star Trek</td>\n",
       "      <td>J.J. Abrams</td>\n",
       "      <td>StarTrek</td>\n",
       "      <td>257730019.0</td>\n",
       "      <td>2009-05-08</td>\n",
       "    </tr>\n",
       "  </tbody>\n",
       "</table>\n",
       "</div>"
      ],
      "text/plain": [
       "                          movies         names              clean_movie  \\\n",
       "0                I Saw the Light  Marc Abraham             ISawtheLight   \n",
       "1                Flash of Genius  Marc Abraham            FlashofGenius   \n",
       "2                         Mafia!  Jim Abrahams                    Mafia   \n",
       "3           Hot Shots! Part Deux  Jim Abrahams         HotShotsPartDeux   \n",
       "4                     Hot Shots!  Jim Abrahams                 HotShots   \n",
       "5                   Welcome Home  Jim Abrahams              WelcomeHome   \n",
       "6                Roxy Carmichael  Jim Abrahams           RoxyCarmichael   \n",
       "7                   Big Business  Jim Abrahams              BigBusiness   \n",
       "8                Ruthless People  Jim Abrahams           RuthlessPeople   \n",
       "9                    Top Secret!  Jim Abrahams                TopSecret   \n",
       "10                     Airplane!  Jim Abrahams                 Airplane   \n",
       "11  Star Wars: The Force Awakens   J.J. Abrams  StarWarsTheForceAwakens   \n",
       "12       Star Trek Into Darkness   J.J. Abrams     StarTrekIntoDarkness   \n",
       "13                       Super 8   J.J. Abrams                   Super8   \n",
       "14                     Star Trek   J.J. Abrams                 StarTrek   \n",
       "\n",
       "          Gross Release_Date  \n",
       "0           NaN          NaT  \n",
       "1           NaN          NaT  \n",
       "2           NaN          NaT  \n",
       "3           NaN          NaT  \n",
       "4           NaN          NaT  \n",
       "5           NaN          NaT  \n",
       "6           NaN          NaT  \n",
       "7           NaN          NaT  \n",
       "8           NaN          NaT  \n",
       "9           NaN          NaT  \n",
       "10          NaN          NaT  \n",
       "11  936662225.0   2015-12-18  \n",
       "12  228778661.0   2013-05-16  \n",
       "13  127004179.0   2011-06-10  \n",
       "14  257730019.0   2009-05-08  "
      ]
     },
     "execution_count": 230,
     "metadata": {},
     "output_type": "execute_result"
    }
   ],
   "source": [
    "director_temp[:15]"
   ]
  },
  {
   "cell_type": "code",
   "execution_count": 231,
   "metadata": {
    "collapsed": true
   },
   "outputs": [],
   "source": [
    "director_temp = director_temp.dropna(subset=[\"Gross\"])"
   ]
  },
  {
   "cell_type": "code",
   "execution_count": 244,
   "metadata": {
    "collapsed": false
   },
   "outputs": [
    {
     "name": "stderr",
     "output_type": "stream",
     "text": [
      "/Users/Manoj/anaconda/lib/python3.5/site-packages/ipykernel/__main__.py:4: SettingWithCopyWarning: \n",
      "A value is trying to be set on a copy of a slice from a DataFrame\n",
      "\n",
      "See the caveats in the documentation: http://pandas.pydata.org/pandas-docs/stable/indexing.html#indexing-view-versus-copy\n"
     ]
    }
   ],
   "source": [
    "director_final = pd.DataFrame(columns=[\"name\",\"Movie\",\"Release_Date\",\"Average_Gross\",\"clean_movie\"])\n",
    "for name, group in director_temp.groupby(director_temp[\"names\"]):\n",
    "    \n",
    "    group.sort_values(by=['Release_Date'],ascending=True,inplace=True)\n",
    "    group = group.reset_index(drop=True)\n",
    "    group[\"cum_sum\"] = group[\"Gross\"].cumsum()\n",
    "    group[\"Average_Gross\"] = [group.ix[i,'cum_sum']/(i+1) for i in range(len(group))]\n",
    "    for i in range(len(group)):\n",
    "        temp = pd.DataFrame({'name':[name],'clean_movie':[group.ix[i,\"clean_movie\"]],'Movie':[group.ix[i,\"movies\"]],'Gross':[group.ix[i,\"Gross\"]],'Release_Date':[group.ix[i,\"Release_Date\"]],'Average_Gross':[group.ix[i,\"Average_Gross\"]]})\n",
    "                           \n",
    "        director_final=director_final.append(temp)"
   ]
  },
  {
   "cell_type": "code",
   "execution_count": 245,
   "metadata": {
    "collapsed": true
   },
   "outputs": [],
   "source": [
    "director_final = director_final.reset_index(drop=True)"
   ]
  },
  {
   "cell_type": "code",
   "execution_count": 247,
   "metadata": {
    "collapsed": false
   },
   "outputs": [
    {
     "name": "stderr",
     "output_type": "stream",
     "text": [
      "/Users/Manoj/anaconda/lib/python3.5/site-packages/ipykernel/__main__.py:13: UserWarning: This pattern has match groups. To actually get the groups, use str.extract.\n",
      "/Users/Manoj/anaconda/lib/python3.5/site-packages/ipykernel/__main__.py:14: UserWarning: This pattern has match groups. To actually get the groups, use str.extract.\n"
     ]
    }
   ],
   "source": [
    "final_data[\"director_gross\"] = 0\n",
    "\n",
    "for i in range(len(final_data)):\n",
    "    if isinstance(final_data.ix[i,\"Director\"],float):\n",
    "         continue\n",
    "    name = final_data.ix[i,\"Director\"].strip(\"[]\").split(\",\")\n",
    "    movie = final_data.ix[i,\"clean_movie\"]\n",
    "   \n",
    "    for j in range(len(name)):\n",
    "        temp = name[j].strip(\" \").strip(\"'\").strip(\"\\\"\")\n",
    "        \n",
    "       \n",
    "        if any(director_final[(director_final[\"name\"].str.contains(temp)) & (director_final[\"clean_movie\"] == (movie))]):\n",
    "            row = director_final[(director_final[\"name\"].str.contains(temp)) & (director_final[\"clean_movie\"]==(movie))].index.tolist()\n",
    "            if len(row) == 0:\n",
    "                continue\n",
    "            if len(row) > 1:\n",
    "                print(\"More than one match\",row)\n",
    "            else:\n",
    "                final_data.ix[i,\"director_gross\"] = director_final.ix[row[0],\"Average_Gross\"]\n",
    "                    \n",
    "                    \n",
    "                \n",
    "           \n",
    "\n"
   ]
  },
  {
   "cell_type": "code",
   "execution_count": 249,
   "metadata": {
    "collapsed": false
   },
   "outputs": [],
   "source": [
    "director_final.to_csv(\"/Users/Manoj/Documents/metis/directors_final.csv\")"
   ]
  },
  {
   "cell_type": "markdown",
   "metadata": {},
   "source": [
    "### Reading and cleaning Producers' data"
   ]
  },
  {
   "cell_type": "code",
   "execution_count": 236,
   "metadata": {
    "collapsed": false
   },
   "outputs": [
    {
     "name": "stderr",
     "output_type": "stream",
     "text": [
      "/Users/Manoj/anaconda/lib/python3.5/site-packages/ipykernel/__main__.py:36: SettingWithCopyWarning: \n",
      "A value is trying to be set on a copy of a slice from a DataFrame\n",
      "\n",
      "See the caveats in the documentation: http://pandas.pydata.org/pandas-docs/stable/indexing.html#indexing-view-versus-copy\n",
      "/Users/Manoj/anaconda/lib/python3.5/site-packages/ipykernel/__main__.py:57: UserWarning: This pattern has match groups. To actually get the groups, use str.extract.\n",
      "/Users/Manoj/anaconda/lib/python3.5/site-packages/ipykernel/__main__.py:58: UserWarning: This pattern has match groups. To actually get the groups, use str.extract.\n"
     ]
    }
   ],
   "source": [
    "producers = pd.read_csv(\"/Users/Manoj/Documents/metis/producers.csv\",converters={\"movies\":lambda x:x.strip(\"[]\").split(\",\")})\n",
    "\n",
    "producer_temp = pd.DataFrame(columns=[\"names\",\"movies\"])\n",
    "for i in range(len(producers)):\n",
    "    item=producers.ix[i,\"movies\"]\n",
    "    \n",
    "    \n",
    "    for j in range(len(item)):\n",
    "        mov = item[j].strip(\" \").strip(\"'\").strip(\"\\\"\")\n",
    "        temp = pd.DataFrame({'names':producers.ix[i,\"names\"],'movies':mov},index=[0])\n",
    "        producer_temp = producer_temp.append(temp)\n",
    "producer_temp = producer_temp.reset_index(drop=True)\n",
    "\n",
    "producer_temp[\"clean_movie\"] = producer_temp[\"movies\"].apply(strip_punctuation)\n",
    "\n",
    "\n",
    "\n",
    "for i in range(len(final_data)):\n",
    "    item = final_data.ix[i,\"clean_movie\"]\n",
    "    item = item.strip(\" \")\n",
    "    \n",
    "    if any(producer_temp[producer_temp[\"clean_movie\"].str.strip(\" \") == (item)]):\n",
    "        row = producer_temp[producer_temp[\"clean_movie\"] == (item)].index.tolist()\n",
    "       \n",
    "        \n",
    "            \n",
    "        \n",
    "        producer_temp.ix[row,\"Gross\"] = final_data.ix[i,\"Gross\"]\n",
    "        producer_temp.ix[row,\"Release_Date\"] = final_data.ix[i,\"Release_Date\"]\n",
    "        \n",
    "\n",
    "producer_temp = producer_temp.dropna(subset=[\"Gross\"])\n",
    "producer_final = pd.DataFrame(columns=[\"name\",\"Movie\",\"Release_Date\",\"Average_Gross\",\"clean_movie\"])\n",
    "for name, group in actor_temp.groupby(actor_temp[\"names\"]):\n",
    "    \n",
    "    group.sort_values(by=['Release_Date'],ascending=True,inplace=True)\n",
    "    group = group.reset_index(drop=True)\n",
    "    group[\"cum_sum\"] = group[\"Gross\"].cumsum()\n",
    "    group[\"Average_Gross\"] = [group.ix[i,'cum_sum']/(i+1) for i in range(len(group))]\n",
    "    for i in range(len(group)):\n",
    "        temp = pd.DataFrame({'name':[name],'clean_movie':[group.ix[i,\"clean_movie\"]],'Movie':[group.ix[i,\"movies\"]],'Gross':[group.ix[i,\"Gross\"]],'Release_Date':[group.ix[i,\"Release_Date\"]],'Average_Gross':[group.ix[i,\"Average_Gross\"]]})\n",
    "                           \n",
    "        actor_final=actor_final.append(temp)\n",
    "producer_final = producer_final.reset_index(drop=True)\n",
    "final_data[\"producer_gross\"] = 0\n",
    "\n",
    "for i in range(len(final_data)):\n",
    "    if isinstance(final_data.ix[i,\"Producer\"],float):\n",
    "         continue\n",
    "    name = final_data.ix[i,\"Producer\"].strip(\"[]\").split(\",\")\n",
    "    movie = final_data.ix[i,\"clean_movie\"]\n",
    "   \n",
    "    for j in range(len(name)):\n",
    "        temp = name[j].strip(\" \").strip(\"'\").strip(\"\\\"\")\n",
    "        \n",
    "       \n",
    "        if any(producer_final[(producer_final[\"name\"].str.contains(temp)) & (producer_final[\"clean_movie\"] == (movie))]):\n",
    "            row = producer_final[(producer_final[\"name\"].str.contains(temp)) & (producer_final[\"clean_movie\"]==(movie))].index.tolist()\n",
    "            if len(row) == 0:\n",
    "                continue\n",
    "            if len(row) > 1:\n",
    "                print(\"More than one match\",row)\n",
    "            else:\n",
    "                final_data.ix[i,\"producer_gross\"] = producer_final.ix[row[0],\"Average_Revenue\"]\n",
    "                    \n",
    "                    \n",
    "                \n",
    "           \n",
    "\n",
    "\n"
   ]
  },
  {
   "cell_type": "code",
   "execution_count": 238,
   "metadata": {
    "collapsed": true
   },
   "outputs": [],
   "source": [
    "producers = pd.read_csv(\"/Users/Manoj/Documents/metis/producers.csv\",converters={\"movies\":lambda x:x.strip(\"[]\").split(\",\")})\n",
    "\n",
    "producer_temp = pd.DataFrame(columns=[\"names\",\"movies\"])"
   ]
  },
  {
   "cell_type": "code",
   "execution_count": 239,
   "metadata": {
    "collapsed": false
   },
   "outputs": [
    {
     "data": {
      "text/html": [
       "<div>\n",
       "<table border=\"1\" class=\"dataframe\">\n",
       "  <thead>\n",
       "    <tr style=\"text-align: right;\">\n",
       "      <th></th>\n",
       "      <th>movies</th>\n",
       "      <th>names</th>\n",
       "      <th>clean_movie</th>\n",
       "    </tr>\n",
       "  </thead>\n",
       "  <tbody>\n",
       "    <tr>\n",
       "      <th>0</th>\n",
       "      <td>Endless Love (2014)</td>\n",
       "      <td>Pamela Abdy</td>\n",
       "      <td>EndlessLove2014</td>\n",
       "    </tr>\n",
       "    <tr>\n",
       "      <th>1</th>\n",
       "      <td>47 Ronin</td>\n",
       "      <td>Pamela Abdy</td>\n",
       "      <td>47Ronin</td>\n",
       "    </tr>\n",
       "    <tr>\n",
       "      <th>2</th>\n",
       "      <td>Identity Thief</td>\n",
       "      <td>Pamela Abdy</td>\n",
       "      <td>IdentityThief</td>\n",
       "    </tr>\n",
       "    <tr>\n",
       "      <th>3</th>\n",
       "      <td>Garden State</td>\n",
       "      <td>Pamela Abdy</td>\n",
       "      <td>GardenState</td>\n",
       "    </tr>\n",
       "    <tr>\n",
       "      <th>4</th>\n",
       "      <td>How High(executive)</td>\n",
       "      <td>Pamela Abdy</td>\n",
       "      <td>HowHighexecutive</td>\n",
       "    </tr>\n",
       "  </tbody>\n",
       "</table>\n",
       "</div>"
      ],
      "text/plain": [
       "                movies        names       clean_movie\n",
       "0  Endless Love (2014)  Pamela Abdy   EndlessLove2014\n",
       "1             47 Ronin  Pamela Abdy           47Ronin\n",
       "2       Identity Thief  Pamela Abdy     IdentityThief\n",
       "3         Garden State  Pamela Abdy       GardenState\n",
       "4  How High(executive)  Pamela Abdy  HowHighexecutive"
      ]
     },
     "execution_count": 239,
     "metadata": {},
     "output_type": "execute_result"
    }
   ],
   "source": [
    "for i in range(len(producers)):\n",
    "    item=producers.ix[i,\"movies\"]\n",
    "    \n",
    "    \n",
    "    for j in range(len(item)):\n",
    "        mov = item[j].strip(\" \").strip(\"'\").strip(\"\\\"\")\n",
    "        temp = pd.DataFrame({'names':producers.ix[i,\"names\"],'movies':mov},index=[0])\n",
    "        producer_temp = producer_temp.append(temp)\n",
    "producer_temp = producer_temp.reset_index(drop=True)\n",
    "\n",
    "producer_temp[\"clean_movie\"] = producer_temp[\"movies\"].apply(strip_punctuation)\n",
    "\n",
    "producer_temp[:5]"
   ]
  },
  {
   "cell_type": "code",
   "execution_count": 240,
   "metadata": {
    "collapsed": true
   },
   "outputs": [],
   "source": [
    "for i in range(len(final_data)):\n",
    "    item = final_data.ix[i,\"clean_movie\"]\n",
    "    item = item.strip(\" \")\n",
    "    \n",
    "    if any(producer_temp[producer_temp[\"clean_movie\"].str.strip(\" \") == (item)]):\n",
    "        row = producer_temp[producer_temp[\"clean_movie\"] == (item)].index.tolist()\n",
    "       \n",
    "        \n",
    "            \n",
    "        \n",
    "        producer_temp.ix[row,\"Gross\"] = final_data.ix[i,\"Gross\"]\n",
    "        producer_temp.ix[row,\"Release_Date\"] = final_data.ix[i,\"Release_Date\"]"
   ]
  },
  {
   "cell_type": "code",
   "execution_count": 241,
   "metadata": {
    "collapsed": false
   },
   "outputs": [
    {
     "data": {
      "text/html": [
       "<div>\n",
       "<table border=\"1\" class=\"dataframe\">\n",
       "  <thead>\n",
       "    <tr style=\"text-align: right;\">\n",
       "      <th></th>\n",
       "      <th>movies</th>\n",
       "      <th>names</th>\n",
       "      <th>clean_movie</th>\n",
       "      <th>Gross</th>\n",
       "      <th>Release_Date</th>\n",
       "    </tr>\n",
       "  </thead>\n",
       "  <tbody>\n",
       "    <tr>\n",
       "      <th>0</th>\n",
       "      <td>Endless Love (2014)</td>\n",
       "      <td>Pamela Abdy</td>\n",
       "      <td>EndlessLove2014</td>\n",
       "      <td>23438250.0</td>\n",
       "      <td>2014-02-14</td>\n",
       "    </tr>\n",
       "    <tr>\n",
       "      <th>1</th>\n",
       "      <td>47 Ronin</td>\n",
       "      <td>Pamela Abdy</td>\n",
       "      <td>47Ronin</td>\n",
       "      <td>38362475.0</td>\n",
       "      <td>2013-12-25</td>\n",
       "    </tr>\n",
       "    <tr>\n",
       "      <th>2</th>\n",
       "      <td>Identity Thief</td>\n",
       "      <td>Pamela Abdy</td>\n",
       "      <td>IdentityThief</td>\n",
       "      <td>134506920.0</td>\n",
       "      <td>2013-02-08</td>\n",
       "    </tr>\n",
       "    <tr>\n",
       "      <th>3</th>\n",
       "      <td>Garden State</td>\n",
       "      <td>Pamela Abdy</td>\n",
       "      <td>GardenState</td>\n",
       "      <td>26782316.0</td>\n",
       "      <td>2004-07-28</td>\n",
       "    </tr>\n",
       "    <tr>\n",
       "      <th>4</th>\n",
       "      <td>How High(executive)</td>\n",
       "      <td>Pamela Abdy</td>\n",
       "      <td>HowHighexecutive</td>\n",
       "      <td>NaN</td>\n",
       "      <td>NaT</td>\n",
       "    </tr>\n",
       "  </tbody>\n",
       "</table>\n",
       "</div>"
      ],
      "text/plain": [
       "                movies        names       clean_movie        Gross  \\\n",
       "0  Endless Love (2014)  Pamela Abdy   EndlessLove2014   23438250.0   \n",
       "1             47 Ronin  Pamela Abdy           47Ronin   38362475.0   \n",
       "2       Identity Thief  Pamela Abdy     IdentityThief  134506920.0   \n",
       "3         Garden State  Pamela Abdy       GardenState   26782316.0   \n",
       "4  How High(executive)  Pamela Abdy  HowHighexecutive          NaN   \n",
       "\n",
       "  Release_Date  \n",
       "0   2014-02-14  \n",
       "1   2013-12-25  \n",
       "2   2013-02-08  \n",
       "3   2004-07-28  \n",
       "4          NaT  "
      ]
     },
     "execution_count": 241,
     "metadata": {},
     "output_type": "execute_result"
    }
   ],
   "source": [
    "producer_temp[:5]"
   ]
  },
  {
   "cell_type": "code",
   "execution_count": 250,
   "metadata": {
    "collapsed": false
   },
   "outputs": [
    {
     "name": "stderr",
     "output_type": "stream",
     "text": [
      "/Users/Manoj/anaconda/lib/python3.5/site-packages/ipykernel/__main__.py:5: SettingWithCopyWarning: \n",
      "A value is trying to be set on a copy of a slice from a DataFrame\n",
      "\n",
      "See the caveats in the documentation: http://pandas.pydata.org/pandas-docs/stable/indexing.html#indexing-view-versus-copy\n"
     ]
    }
   ],
   "source": [
    "producer_temp = producer_temp.dropna(subset=[\"Gross\"])\n",
    "producer_final = pd.DataFrame(columns=[\"name\",\"Movie\",\"Release_Date\",\"Average_Gross\",\"clean_movie\"])\n",
    "for name, group in producer_temp.groupby(producer_temp[\"names\"]):\n",
    "    \n",
    "    group.sort_values(by=['Release_Date'],ascending=True,inplace=True)\n",
    "    group = group.reset_index(drop=True)\n",
    "    group[\"cum_sum\"] = group[\"Gross\"].cumsum()\n",
    "    group[\"Average_Gross\"] = [group.ix[i,'cum_sum']/(i+1) for i in range(len(group))]\n",
    "    for i in range(len(group)):\n",
    "        temp = pd.DataFrame({'name':[name],'clean_movie':[group.ix[i,\"clean_movie\"]],'Movie':[group.ix[i,\"movies\"]],'Gross':[group.ix[i,\"Gross\"]],'Release_Date':[group.ix[i,\"Release_Date\"]],'Average_Gross':[group.ix[i,\"Average_Gross\"]]})\n",
    "                           \n",
    "        producer_final=producer_final.append(temp)\n",
    "producer_final = producer_final.reset_index(drop=True)"
   ]
  },
  {
   "cell_type": "code",
   "execution_count": 251,
   "metadata": {
    "collapsed": false
   },
   "outputs": [
    {
     "data": {
      "text/html": [
       "<div>\n",
       "<table border=\"1\" class=\"dataframe\">\n",
       "  <thead>\n",
       "    <tr style=\"text-align: right;\">\n",
       "      <th></th>\n",
       "      <th>Average_Gross</th>\n",
       "      <th>Gross</th>\n",
       "      <th>Movie</th>\n",
       "      <th>Release_Date</th>\n",
       "      <th>clean_movie</th>\n",
       "      <th>name</th>\n",
       "    </tr>\n",
       "  </thead>\n",
       "  <tbody>\n",
       "    <tr>\n",
       "      <th>0</th>\n",
       "      <td>5.308989e+07</td>\n",
       "      <td>53089891.0</td>\n",
       "      <td>The Prestige</td>\n",
       "      <td>2006-10-20</td>\n",
       "      <td>ThePrestige</td>\n",
       "      <td>Aaron Ryder</td>\n",
       "    </tr>\n",
       "    <tr>\n",
       "      <th>1</th>\n",
       "      <td>2.898805e+07</td>\n",
       "      <td>4886216.0</td>\n",
       "      <td>Hamlet 2</td>\n",
       "      <td>2008-08-22</td>\n",
       "      <td>Hamlet2</td>\n",
       "      <td>Aaron Ryder</td>\n",
       "    </tr>\n",
       "    <tr>\n",
       "      <th>2</th>\n",
       "      <td>2.466146e+07</td>\n",
       "      <td>16008272.0</td>\n",
       "      <td>The Raven</td>\n",
       "      <td>2012-04-27</td>\n",
       "      <td>TheRaven</td>\n",
       "      <td>Aaron Ryder</td>\n",
       "    </tr>\n",
       "    <tr>\n",
       "      <th>3</th>\n",
       "      <td>2.639907e+07</td>\n",
       "      <td>31611916.0</td>\n",
       "      <td>House at the End of The Street</td>\n",
       "      <td>2012-09-21</td>\n",
       "      <td>HouseattheEndofTheStreet</td>\n",
       "      <td>Aaron Ryder</td>\n",
       "    </tr>\n",
       "    <tr>\n",
       "      <th>4</th>\n",
       "      <td>2.572372e+07</td>\n",
       "      <td>23022309.0</td>\n",
       "      <td>Transcendence</td>\n",
       "      <td>2014-04-18</td>\n",
       "      <td>Transcendence</td>\n",
       "      <td>Aaron Ryder</td>\n",
       "    </tr>\n",
       "  </tbody>\n",
       "</table>\n",
       "</div>"
      ],
      "text/plain": [
       "   Average_Gross       Gross                           Movie Release_Date  \\\n",
       "0   5.308989e+07  53089891.0                    The Prestige   2006-10-20   \n",
       "1   2.898805e+07   4886216.0                        Hamlet 2   2008-08-22   \n",
       "2   2.466146e+07  16008272.0                       The Raven   2012-04-27   \n",
       "3   2.639907e+07  31611916.0  House at the End of The Street   2012-09-21   \n",
       "4   2.572372e+07  23022309.0                   Transcendence   2014-04-18   \n",
       "\n",
       "                clean_movie         name  \n",
       "0               ThePrestige  Aaron Ryder  \n",
       "1                   Hamlet2  Aaron Ryder  \n",
       "2                  TheRaven  Aaron Ryder  \n",
       "3  HouseattheEndofTheStreet  Aaron Ryder  \n",
       "4             Transcendence  Aaron Ryder  "
      ]
     },
     "execution_count": 251,
     "metadata": {},
     "output_type": "execute_result"
    }
   ],
   "source": [
    "producer_final[:5]"
   ]
  },
  {
   "cell_type": "code",
   "execution_count": 253,
   "metadata": {
    "collapsed": false
   },
   "outputs": [
    {
     "name": "stderr",
     "output_type": "stream",
     "text": [
      "/Users/Manoj/anaconda/lib/python3.5/site-packages/ipykernel/__main__.py:13: UserWarning: This pattern has match groups. To actually get the groups, use str.extract.\n",
      "/Users/Manoj/anaconda/lib/python3.5/site-packages/ipykernel/__main__.py:14: UserWarning: This pattern has match groups. To actually get the groups, use str.extract.\n"
     ]
    }
   ],
   "source": [
    "final_data[\"producer_gross\"] = 0\n",
    "\n",
    "for i in range(len(final_data)):\n",
    "    if isinstance(final_data.ix[i,\"Producer\"],float):\n",
    "         continue\n",
    "    name = final_data.ix[i,\"Producer\"].strip(\"[]\").split(\",\")\n",
    "    movie = final_data.ix[i,\"clean_movie\"]\n",
    "   \n",
    "    for j in range(len(name)):\n",
    "        temp = name[j].strip(\" \").strip(\"'\").strip(\"\\\"\")\n",
    "        \n",
    "       \n",
    "        if any(producer_final[(producer_final[\"name\"].str.contains(temp)) & (producer_final[\"clean_movie\"] == (movie))]):\n",
    "            row = producer_final[(producer_final[\"name\"].str.contains(temp)) & (producer_final[\"clean_movie\"]==(movie))].index.tolist()\n",
    "            if len(row) == 0:\n",
    "                continue\n",
    "            if len(row) > 1:\n",
    "                print(\"More than one match\",row)\n",
    "            else:\n",
    "                final_data.ix[i,\"producer_gross\"] = producer_final.ix[row[0],\"Average_Gross\"]\n",
    "                    \n",
    "                    "
   ]
  },
  {
   "cell_type": "code",
   "execution_count": 254,
   "metadata": {
    "collapsed": false
   },
   "outputs": [
    {
     "data": {
      "text/html": [
       "<div>\n",
       "<table border=\"1\" class=\"dataframe\">\n",
       "  <thead>\n",
       "    <tr style=\"text-align: right;\">\n",
       "      <th></th>\n",
       "      <th>Release_Date</th>\n",
       "      <th>Movie</th>\n",
       "      <th>Gross</th>\n",
       "      <th>Genre</th>\n",
       "      <th>Run_Time</th>\n",
       "      <th>Rating</th>\n",
       "      <th>Budget</th>\n",
       "      <th>Num_theatres</th>\n",
       "      <th>Actors</th>\n",
       "      <th>Producer</th>\n",
       "      <th>Writer</th>\n",
       "      <th>Director</th>\n",
       "      <th>ROI</th>\n",
       "      <th>Competitors</th>\n",
       "      <th>clean_movie</th>\n",
       "      <th>Actor1</th>\n",
       "      <th>Actor2</th>\n",
       "      <th>Actor3</th>\n",
       "      <th>director_gross</th>\n",
       "      <th>producer_gross</th>\n",
       "    </tr>\n",
       "  </thead>\n",
       "  <tbody>\n",
       "    <tr>\n",
       "      <th>0</th>\n",
       "      <td>2004-04-09</td>\n",
       "      <td>The Alamo (2004)</td>\n",
       "      <td>22414961</td>\n",
       "      <td>Drama</td>\n",
       "      <td>137</td>\n",
       "      <td>PG-13</td>\n",
       "      <td>107000000.0</td>\n",
       "      <td>2609</td>\n",
       "      <td>['Billy Bob Thornton', 'Dennis Quaid', 'Patric...</td>\n",
       "      <td>Ron Howard</td>\n",
       "      <td>Leslie Bohem</td>\n",
       "      <td>John Lee Hancock</td>\n",
       "      <td>-0.790514</td>\n",
       "      <td>13.0</td>\n",
       "      <td>TheAlamo2004</td>\n",
       "      <td>2.241496e+07</td>\n",
       "      <td>22414961.0</td>\n",
       "      <td>22414961.0</td>\n",
       "      <td>22414961.0</td>\n",
       "      <td>22414961.0</td>\n",
       "    </tr>\n",
       "    <tr>\n",
       "      <th>1</th>\n",
       "      <td>2004-12-25</td>\n",
       "      <td>Darkness</td>\n",
       "      <td>22163442</td>\n",
       "      <td>Horror</td>\n",
       "      <td>102</td>\n",
       "      <td>PG-13</td>\n",
       "      <td>10600000.0</td>\n",
       "      <td>1718</td>\n",
       "      <td>['Anna Paquin', 'Lena Olin']</td>\n",
       "      <td>NaN</td>\n",
       "      <td>NaN</td>\n",
       "      <td>NaN</td>\n",
       "      <td>1.090891</td>\n",
       "      <td>4.0</td>\n",
       "      <td>Darkness</td>\n",
       "      <td>2.216344e+07</td>\n",
       "      <td>0.0</td>\n",
       "      <td>0.0</td>\n",
       "      <td>0.0</td>\n",
       "      <td>0.0</td>\n",
       "    </tr>\n",
       "    <tr>\n",
       "      <th>2</th>\n",
       "      <td>2004-01-16</td>\n",
       "      <td>Torque</td>\n",
       "      <td>21215059</td>\n",
       "      <td>Action</td>\n",
       "      <td>81</td>\n",
       "      <td>PG-13</td>\n",
       "      <td>40000000.0</td>\n",
       "      <td>2463</td>\n",
       "      <td>['Ice Cube', 'Adam Scott']</td>\n",
       "      <td>Neal H. Moritz</td>\n",
       "      <td>NaN</td>\n",
       "      <td>NaN</td>\n",
       "      <td>-0.469624</td>\n",
       "      <td>7.0</td>\n",
       "      <td>Torque</td>\n",
       "      <td>2.121506e+07</td>\n",
       "      <td>21215059.0</td>\n",
       "      <td>0.0</td>\n",
       "      <td>0.0</td>\n",
       "      <td>21215059.0</td>\n",
       "    </tr>\n",
       "    <tr>\n",
       "      <th>3</th>\n",
       "      <td>2004-12-17</td>\n",
       "      <td>Flight of the Phoenix</td>\n",
       "      <td>21009180</td>\n",
       "      <td>Adventure</td>\n",
       "      <td>120</td>\n",
       "      <td>PG-13</td>\n",
       "      <td>45000000.0</td>\n",
       "      <td>2604</td>\n",
       "      <td>['Dennis Quaid', 'Tyrese Gibson', 'Giovanni Ri...</td>\n",
       "      <td>John Davis</td>\n",
       "      <td>Scott Frank</td>\n",
       "      <td>John Moore</td>\n",
       "      <td>-0.533129</td>\n",
       "      <td>9.0</td>\n",
       "      <td>FlightofthePhoenix</td>\n",
       "      <td>7.672165e+07</td>\n",
       "      <td>21009180.0</td>\n",
       "      <td>29385928.5</td>\n",
       "      <td>21009180.0</td>\n",
       "      <td>58887000.0</td>\n",
       "    </tr>\n",
       "    <tr>\n",
       "      <th>4</th>\n",
       "      <td>2004-08-06</td>\n",
       "      <td>Little Black Book</td>\n",
       "      <td>20698668</td>\n",
       "      <td>Comedy</td>\n",
       "      <td>105</td>\n",
       "      <td>PG-13</td>\n",
       "      <td>35000000.0</td>\n",
       "      <td>2445</td>\n",
       "      <td>['Brittany Murphy', 'Holly Hunter', 'Ron Livin...</td>\n",
       "      <td>NaN</td>\n",
       "      <td>Elisa Bell</td>\n",
       "      <td>Nick Hurran</td>\n",
       "      <td>-0.408609</td>\n",
       "      <td>11.0</td>\n",
       "      <td>LittleBlackBook</td>\n",
       "      <td>2.069867e+07</td>\n",
       "      <td>20698668.0</td>\n",
       "      <td>20698668.0</td>\n",
       "      <td>20698668.0</td>\n",
       "      <td>0.0</td>\n",
       "    </tr>\n",
       "  </tbody>\n",
       "</table>\n",
       "</div>"
      ],
      "text/plain": [
       "  Release_Date                  Movie     Gross      Genre  Run_Time Rating  \\\n",
       "0   2004-04-09       The Alamo (2004)  22414961      Drama       137  PG-13   \n",
       "1   2004-12-25               Darkness  22163442     Horror       102  PG-13   \n",
       "2   2004-01-16                 Torque  21215059     Action        81  PG-13   \n",
       "3   2004-12-17  Flight of the Phoenix  21009180  Adventure       120  PG-13   \n",
       "4   2004-08-06      Little Black Book  20698668     Comedy       105  PG-13   \n",
       "\n",
       "        Budget  Num_theatres  \\\n",
       "0  107000000.0          2609   \n",
       "1   10600000.0          1718   \n",
       "2   40000000.0          2463   \n",
       "3   45000000.0          2604   \n",
       "4   35000000.0          2445   \n",
       "\n",
       "                                              Actors        Producer  \\\n",
       "0  ['Billy Bob Thornton', 'Dennis Quaid', 'Patric...      Ron Howard   \n",
       "1                       ['Anna Paquin', 'Lena Olin']             NaN   \n",
       "2                         ['Ice Cube', 'Adam Scott']  Neal H. Moritz   \n",
       "3  ['Dennis Quaid', 'Tyrese Gibson', 'Giovanni Ri...      John Davis   \n",
       "4  ['Brittany Murphy', 'Holly Hunter', 'Ron Livin...             NaN   \n",
       "\n",
       "         Writer          Director       ROI  Competitors         clean_movie  \\\n",
       "0  Leslie Bohem  John Lee Hancock -0.790514         13.0        TheAlamo2004   \n",
       "1           NaN               NaN  1.090891          4.0            Darkness   \n",
       "2           NaN               NaN -0.469624          7.0              Torque   \n",
       "3   Scott Frank        John Moore -0.533129          9.0  FlightofthePhoenix   \n",
       "4    Elisa Bell       Nick Hurran -0.408609         11.0     LittleBlackBook   \n",
       "\n",
       "         Actor1      Actor2      Actor3  director_gross  producer_gross  \n",
       "0  2.241496e+07  22414961.0  22414961.0      22414961.0      22414961.0  \n",
       "1  2.216344e+07         0.0         0.0             0.0             0.0  \n",
       "2  2.121506e+07  21215059.0         0.0             0.0      21215059.0  \n",
       "3  7.672165e+07  21009180.0  29385928.5      21009180.0      58887000.0  \n",
       "4  2.069867e+07  20698668.0  20698668.0      20698668.0             0.0  "
      ]
     },
     "execution_count": 254,
     "metadata": {},
     "output_type": "execute_result"
    }
   ],
   "source": [
    "final_data[:5]"
   ]
  },
  {
   "cell_type": "code",
   "execution_count": 255,
   "metadata": {
    "collapsed": true
   },
   "outputs": [],
   "source": [
    "producer_final.to_csv(\"/Users/Manoj/Documents/metis/producer_final.csv\")"
   ]
  },
  {
   "cell_type": "markdown",
   "metadata": {},
   "source": [
    "### Reading and cleaning writers' data"
   ]
  },
  {
   "cell_type": "code",
   "execution_count": 257,
   "metadata": {
    "collapsed": false
   },
   "outputs": [
    {
     "name": "stderr",
     "output_type": "stream",
     "text": [
      "/Users/Manoj/anaconda/lib/python3.5/site-packages/ipykernel/__main__.py:36: SettingWithCopyWarning: \n",
      "A value is trying to be set on a copy of a slice from a DataFrame\n",
      "\n",
      "See the caveats in the documentation: http://pandas.pydata.org/pandas-docs/stable/indexing.html#indexing-view-versus-copy\n",
      "/Users/Manoj/anaconda/lib/python3.5/site-packages/ipykernel/__main__.py:57: UserWarning: This pattern has match groups. To actually get the groups, use str.extract.\n",
      "/Users/Manoj/anaconda/lib/python3.5/site-packages/ipykernel/__main__.py:58: UserWarning: This pattern has match groups. To actually get the groups, use str.extract.\n"
     ]
    }
   ],
   "source": [
    "writers = pd.read_csv(\"/Users/Manoj/Documents/metis/writer.csv\",converters={\"movies\":lambda x:x.strip(\"[]\").split(\",\")})\n",
    "\n",
    "writer_temp = pd.DataFrame(columns=[\"names\",\"movies\"])\n",
    "for i in range(len(writers)):\n",
    "    item=writers.ix[i,\"movies\"]\n",
    "    \n",
    "    \n",
    "    for j in range(len(item)):\n",
    "        mov = item[j].strip(\" \").strip(\"'\").strip(\"\\\"\")\n",
    "        temp = pd.DataFrame({'names':writers.ix[i,\"names\"],'movies':mov},index=[0])\n",
    "        writer_temp = writer_temp.append(temp)\n",
    "writer_temp = writer_temp.reset_index(drop=True)\n",
    "\n",
    "writer_temp[\"clean_movie\"] = writer_temp[\"movies\"].apply(strip_punctuation)\n",
    "\n",
    "\n",
    "\n",
    "for i in range(len(final_data)):\n",
    "    item = final_data.ix[i,\"clean_movie\"]\n",
    "    item = item.strip(\" \")\n",
    "    \n",
    "    if any(writer_temp[writer_temp[\"clean_movie\"].str.strip(\" \") == (item)]):\n",
    "        row = writer_temp[writer_temp[\"clean_movie\"] == (item)].index.tolist()\n",
    "       \n",
    "        \n",
    "            \n",
    "        \n",
    "        writer_temp.ix[row,\"Gross\"] = final_data.ix[i,\"Gross\"]\n",
    "        writer_temp.ix[row,\"Release_Date\"] = final_data.ix[i,\"Release_Date\"]\n",
    "        \n",
    "\n",
    "writer_temp = writer_temp.dropna(subset=[\"Gross\"])\n",
    "writer_final = pd.DataFrame(columns=[\"name\",\"Movie\",\"Release_Date\",\"Average_Gross\",\"clean_movie\"])\n",
    "for name, group in writer_temp.groupby(writer_temp[\"names\"]):\n",
    "    \n",
    "    group.sort_values(by=['Release_Date'],ascending=True,inplace=True)\n",
    "    group = group.reset_index(drop=True)\n",
    "    group[\"cum_sum\"] = group[\"Gross\"].cumsum()\n",
    "    group[\"Average_Gross\"] = [group.ix[i,'cum_sum']/(i+1) for i in range(len(group))]\n",
    "    for i in range(len(group)):\n",
    "        temp = pd.DataFrame({'name':[name],'clean_movie':[group.ix[i,\"clean_movie\"]],'Movie':[group.ix[i,\"movies\"]],'Gross':[group.ix[i,\"Gross\"]],'Release_Date':[group.ix[i,\"Release_Date\"]],'Average_Gross':[group.ix[i,\"Average_Gross\"]]})\n",
    "                           \n",
    "        writer_final=writer_final.append(temp)\n",
    "writer_final = writer_final.reset_index(drop=True)\n",
    "final_data[\"writer_gross\"] = 0\n",
    "\n",
    "for i in range(len(final_data)):\n",
    "    if isinstance(final_data.ix[i,\"Writer\"],float):\n",
    "         continue\n",
    "    name = final_data.ix[i,\"Writer\"].strip(\"[]\").split(\",\")\n",
    "    movie = final_data.ix[i,\"clean_movie\"]\n",
    "   \n",
    "    for j in range(len(name)):\n",
    "        temp = name[j].strip(\" \").strip(\"'\").strip(\"\\\"\")\n",
    "        \n",
    "       \n",
    "        if any(writer_final[(writer_final[\"name\"].str.contains(temp)) & (writer_final[\"clean_movie\"] == (movie))]):\n",
    "            row = writer_final[(writer_final[\"name\"].str.contains(temp)) & (writer_final[\"clean_movie\"]==(movie))].index.tolist()\n",
    "            if len(row) == 0:\n",
    "                continue\n",
    "            if len(row) > 1:\n",
    "                print(\"More than one match\",row)\n",
    "            else:\n",
    "                final_data.ix[i,\"writer_gross\"] = writer_final.ix[row[0],\"Average_Gross\"]\n",
    "                    \n",
    "                    \n",
    "                \n",
    "           \n",
    "\n",
    "\n",
    "\n"
   ]
  },
  {
   "cell_type": "code",
   "execution_count": 290,
   "metadata": {
    "collapsed": true
   },
   "outputs": [],
   "source": [
    "writer_final.to_csv(\"/Users/Manoj/Documents/metis/writer_final.csv\")"
   ]
  },
  {
   "cell_type": "code",
   "execution_count": 293,
   "metadata": {
    "collapsed": true
   },
   "outputs": [],
   "source": [
    "final_data.to_csv(\"/Users/Manoj/Documents/metis/final_data.csv\")"
   ]
  }
 ],
 "metadata": {
  "anaconda-cloud": {},
  "kernelspec": {
   "display_name": "Python [Root]",
   "language": "python",
   "name": "Python [Root]"
  },
  "language_info": {
   "codemirror_mode": {
    "name": "ipython",
    "version": 2
   },
   "file_extension": ".py",
   "mimetype": "text/x-python",
   "name": "python",
   "nbconvert_exporter": "python",
   "pygments_lexer": "ipython2",
   "version": "2.7.12"
  }
 },
 "nbformat": 4,
 "nbformat_minor": 0
}
