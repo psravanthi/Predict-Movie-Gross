{
 "cells": [
  {
   "cell_type": "code",
   "execution_count": 17,
   "metadata": {
    "collapsed": false
   },
   "outputs": [],
   "source": [
    "import pandas as pd\n",
    "import matplotlib.pyplot as plt\n",
    "import numpy as np\n",
    "%matplotlib inline\n"
   ]
  },
  {
   "cell_type": "code",
   "execution_count": null,
   "metadata": {
    "collapsed": true
   },
   "outputs": [],
   "source": [
    "final_data = pd.read_csv(\"/Users/Manoj/Documents/metis/final_data.csv\",converters={\"movies\":lambda x:x.strip(\"[]\").split(\",\")})"
   ]
  },
  {
   "cell_type": "code",
   "execution_count": 126,
   "metadata": {
    "collapsed": true
   },
   "outputs": [],
   "source": [
    "#final_data = final_data.drop(['a1*a2', 'a2*a3', 'a3*a1', 'a1*d', 'a2*d', 'a3*d'],axis=1)"
   ]
  },
  {
   "cell_type": "code",
   "execution_count": 2,
   "metadata": {
    "collapsed": false
   },
   "outputs": [
    {
     "data": {
      "text/plain": [
       "Index(['Unnamed: 0', 'Release_Date', 'Movie', 'Gross', 'Genre', 'Run_Time',\n",
       "       'Rating', 'Budget', 'Num_theatres', 'Actors', 'Producer', 'Writer',\n",
       "       'Director', 'ROI', 'Competitors', 'clean_movie', 'Actor1', 'Actor2',\n",
       "       'Actor3', 'director_gross', 'producer_gross', 'writer_gross', 'month',\n",
       "       'a1*a2', 'a2*a3', 'a3*a1', 'a1*d', 'a2*d', 'a3*d', 'a1a2', 'a2a3',\n",
       "       'a3a1', 'a1d', 'a2d', 'a3d', 'a1a2a3', 'a1a2a3d', 'year',\n",
       "       'Gross_inflate', 'Budget_inflate'],\n",
       "      dtype='object')"
      ]
     },
     "execution_count": 2,
     "metadata": {},
     "output_type": "execute_result"
    }
   ],
   "source": [
    "final_data.columns"
   ]
  },
  {
   "cell_type": "code",
   "execution_count": 3,
   "metadata": {
    "collapsed": false
   },
   "outputs": [],
   "source": [
    "from datetime import datetime\n",
    "from datetime import timedelta\n",
    "final_data[\"Release_Date\"] = final_data[\"Release_Date\"].apply(lambda x: datetime.strptime(x,\"%Y-%m-%d\") )"
   ]
  },
  {
   "cell_type": "code",
   "execution_count": 4,
   "metadata": {
    "collapsed": false
   },
   "outputs": [],
   "source": [
    "final_data.loc[(final_data[\"month\"] == \"January\") | (final_data[\"month\"] == \"February\") | (final_data[\"month\"] == \"March\")| (final_data[\"month\"] == \"April\"),\"month\"] = \"J_A\" "
   ]
  },
  {
   "cell_type": "code",
   "execution_count": 5,
   "metadata": {
    "collapsed": true
   },
   "outputs": [],
   "source": [
    "final_data.loc[(final_data[\"month\"] == \"May\") | (final_data[\"month\"] == \"June\") | (final_data[\"month\"] == \"July\"),\"month\"] = \"May_July\" "
   ]
  },
  {
   "cell_type": "code",
   "execution_count": 6,
   "metadata": {
    "collapsed": true
   },
   "outputs": [],
   "source": [
    "final_data.loc[(final_data[\"month\"] == \"August\") | (final_data[\"month\"] == \"September\") | (final_data[\"month\"] == \"October\"),\"month\"] = \"Aug_Sept\" "
   ]
  },
  {
   "cell_type": "code",
   "execution_count": 7,
   "metadata": {
    "collapsed": true
   },
   "outputs": [],
   "source": [
    "final_data.loc[(final_data[\"Rating\"] == \"PG\") | (final_data[\"Rating\"] == \"PG-13\"),\"Rating\"] = \"PG\" "
   ]
  },
  {
   "cell_type": "code",
   "execution_count": 8,
   "metadata": {
    "collapsed": false
   },
   "outputs": [
    {
     "data": {
      "text/plain": [
       "Drama        463\n",
       "Comedy       400\n",
       "Action       168\n",
       "Horror       139\n",
       "Thriller     104\n",
       "Sci-Fi        93\n",
       "Adventure     60\n",
       "Fantasy       51\n",
       "Romance       35\n",
       "Foreign       30\n",
       "Unknown        9\n",
       "Name: Genre, dtype: int64"
      ]
     },
     "execution_count": 8,
     "metadata": {},
     "output_type": "execute_result"
    }
   ],
   "source": [
    "final_data[\"Genre\"].value_counts()"
   ]
  },
  {
   "cell_type": "code",
   "execution_count": 9,
   "metadata": {
    "collapsed": true
   },
   "outputs": [],
   "source": [
    "import math\n",
    "def log_x(x):\n",
    "    return math.log(x)\n",
    "final_data[\"log_gross_inflate\"] = final_data[\"Gross_inflate\"].apply(log_x)"
   ]
  },
  {
   "cell_type": "code",
   "execution_count": 10,
   "metadata": {
    "collapsed": true
   },
   "outputs": [],
   "source": [
    "import math\n",
    "def log_x(x):\n",
    "    return math.log(x)\n",
    "final_data[\"log_budget_inflate\"] = final_data[\"Budget_inflate\"].apply(log_x)"
   ]
  },
  {
   "cell_type": "code",
   "execution_count": 12,
   "metadata": {
    "collapsed": false
   },
   "outputs": [
    {
     "name": "stderr",
     "output_type": "stream",
     "text": [
      "/Users/Manoj/anaconda/lib/python3.5/site-packages/sklearn/preprocessing/data.py:167: UserWarning: Numerical issues were encountered when centering the data and might not be solved. Dataset may contain too large values. You may need to prescale your features.\n",
      "  warnings.warn(\"Numerical issues were encountered \"\n"
     ]
    }
   ],
   "source": [
    "from sklearn import preprocessing\n",
    "to_scale = final_data[[\"log_budget_inflate\",\"Run_Time\",\"Num_theatres\",\"Competitors\",\"director_gross\",\n",
    "                      \"producer_gross\",\"a1d\",\"a2d\",\"a3d\",\"Actor1\",\"Actor2\",\"Actor3\"]]\n",
    "numpyMatrix = to_scale.as_matrix().astype(float)\n",
    "X_scaled = preprocessing.scale(numpyMatrix)"
   ]
  },
  {
   "cell_type": "code",
   "execution_count": null,
   "metadata": {
    "collapsed": true
   },
   "outputs": [],
   "source": [
    "X_scaled = pd.DataFrame(X_scaled)"
   ]
  },
  {
   "cell_type": "code",
   "execution_count": null,
   "metadata": {
    "collapsed": false
   },
   "outputs": [],
   "source": [
    "X_scaled.columns = [\"log_budget_inflate\",\"Run_Time\",\"Num_theatres\",\"Competitors\",\"director_gross\",\n",
    "                      \"producer_gross\",\"a1d\",\"a2d\",\"a3d\",\"Actor1\",\"Actor2\",\"Actor3\",\"days\"]"
   ]
  },
  {
   "cell_type": "code",
   "execution_count": null,
   "metadata": {
    "collapsed": true
   },
   "outputs": [],
   "source": [
    "final_x = pd.concat([final_data[[\"month\",\"Genre\",\"Rating\",\"log_gross_inflate\",\"Gross_inflate\"]],X_scaled,],axis=1)"
   ]
  },
  {
   "cell_type": "code",
   "execution_count": null,
   "metadata": {
    "collapsed": true
   },
   "outputs": [],
   "source": [
    "import statsmodels.api as sm\n",
    "import pandas\n",
    "from patsy import dmatrices\n",
    "\n",
    "\n"
   ]
  },
  {
   "cell_type": "code",
   "execution_count": 1020,
   "metadata": {
    "collapsed": false
   },
   "outputs": [],
   "source": [
    "y, X = dmatrices('log_gross_inflate ~  month+Genre+Rating+log_budget_inflate+Run_Time+Num_theatres+director_gross+Actor1+Actor2+Actor3+days', data=final_x, return_type='dataframe')"
   ]
  },
  {
   "cell_type": "code",
   "execution_count": 233,
   "metadata": {
    "collapsed": false
   },
   "outputs": [
    {
     "name": "stdout",
     "output_type": "stream",
     "text": [
      "                            OLS Regression Results                            \n",
      "==============================================================================\n",
      "Dep. Variable:      log_gross_inflate   R-squared:                       0.789\n",
      "Model:                            OLS   Adj. R-squared:                  0.786\n",
      "Method:                 Least Squares   F-statistic:                     260.2\n",
      "Date:                Thu, 14 Jul 2016   Prob (F-statistic):               0.00\n",
      "Time:                        06:56:21   Log-Likelihood:                -2174.1\n",
      "No. Observations:                1552   AIC:                             4394.\n",
      "Df Residuals:                    1529   BIC:                             4517.\n",
      "Df Model:                          22                                         \n",
      "Covariance Type:            nonrobust                                         \n",
      "======================================================================================\n",
      "                         coef    std err          t      P>|t|      [95.0% Conf. Int.]\n",
      "--------------------------------------------------------------------------------------\n",
      "Intercept             15.9500      0.345     46.180      0.000        15.272    16.627\n",
      "month[T.December]      0.4717      0.097      4.840      0.000         0.281     0.663\n",
      "month[T.J_A]           0.1080      0.066      1.635      0.102        -0.022     0.238\n",
      "month[T.May_July]      0.0546      0.073      0.744      0.457        -0.089     0.199\n",
      "month[T.November]      0.3660      0.105      3.495      0.000         0.161     0.571\n",
      "Genre[T.Adventure]     0.0819      0.150      0.545      0.586        -0.213     0.377\n",
      "Genre[T.Comedy]        0.3881      0.095      4.069      0.000         0.201     0.575\n",
      "Genre[T.Drama]         0.6143      0.099      6.230      0.000         0.421     0.808\n",
      "Genre[T.Fantasy]       0.1059      0.160      0.663      0.507        -0.207     0.419\n",
      "Genre[T.Foreign]       1.4334      0.214      6.692      0.000         1.013     1.854\n",
      "Genre[T.Horror]        0.3982      0.121      3.292      0.001         0.161     0.635\n",
      "Genre[T.Romance]       0.4881      0.187      2.608      0.009         0.121     0.855\n",
      "Genre[T.Sci-Fi]        0.0832      0.128      0.647      0.518        -0.169     0.335\n",
      "Genre[T.Thriller]      0.2754      0.127      2.163      0.031         0.026     0.525\n",
      "Genre[T.Unknown]      -1.2006      0.351     -3.418      0.001        -1.890    -0.512\n",
      "Rating[T.NC-17]        0.8582      0.608      1.411      0.159        -0.335     2.052\n",
      "Rating[T.PG]           0.5247      0.334      1.569      0.117        -0.131     1.181\n",
      "Rating[T.R]            0.5951      0.336      1.771      0.077        -0.064     1.254\n",
      "Rating[T.Unrated]     -2.3008      0.382     -6.019      0.000        -3.051    -1.551\n",
      "log_budget_inflate     0.2337      0.041      5.725      0.000         0.154     0.314\n",
      "Run_Time               0.0975      0.031      3.098      0.002         0.036     0.159\n",
      "Num_theatres           1.4967      0.043     35.199      0.000         1.413     1.580\n",
      "director_gross         0.1721      0.034      5.053      0.000         0.105     0.239\n",
      "==============================================================================\n",
      "Omnibus:                      396.002   Durbin-Watson:                   1.307\n",
      "Prob(Omnibus):                  0.000   Jarque-Bera (JB):             2138.946\n",
      "Skew:                          -1.083   Prob(JB):                         0.00\n",
      "Kurtosis:                       8.328   Cond. No.                         49.6\n",
      "==============================================================================\n",
      "\n",
      "Warnings:\n",
      "[1] Standard Errors assume that the covariance matrix of the errors is correctly specified.\n"
     ]
    }
   ],
   "source": [
    "mod = sm.OLS(y, X)\n",
    "res = mod.fit() \n",
    "print (res.summary())"
   ]
  },
  {
   "cell_type": "markdown",
   "metadata": {},
   "source": [
    "#### Distribution not normal (Prob(Omnibus) and Prob(JB) are significant)"
   ]
  },
  {
   "cell_type": "code",
   "execution_count": 18,
   "metadata": {
    "collapsed": false
   },
   "outputs": [
    {
     "data": {
      "text/plain": [
       "(array([  1.23500000e+03,   2.14000000e+02,   5.40000000e+01,\n",
       "          3.30000000e+01,   1.00000000e+01,   2.00000000e+00,\n",
       "          3.00000000e+00,   0.00000000e+00,   0.00000000e+00,\n",
       "          1.00000000e+00]),\n",
       " array([  3.57000000e+01,   9.46029169e+07,   1.89205798e+08,\n",
       "          2.83808679e+08,   3.78411560e+08,   4.73014441e+08,\n",
       "          5.67617323e+08,   6.62220204e+08,   7.56823085e+08,\n",
       "          8.51425966e+08,   9.46028847e+08]),\n",
       " <a list of 10 Patch objects>)"
      ]
     },
     "execution_count": 18,
     "metadata": {},
     "output_type": "execute_result"
    },
    {
     "data": {
      "image/png": "[encoded data removed]",
      "text/plain": [
       "<matplotlib.figure.Figure at 0x114df0860>"
      ]
     },
     "metadata": {},
     "output_type": "display_data"
    }
   ],
   "source": [
    "plt.hist(np.array(final_data[\"Gross_inflate\"]))"
   ]
  },
  {
   "cell_type": "markdown",
   "metadata": {},
   "source": [
    "#### Plot is right skewed"
   ]
  },
  {
   "cell_type": "code",
   "execution_count": 195,
   "metadata": {
    "collapsed": false
   },
   "outputs": [
    {
     "data": {
      "text/plain": [
       "<matplotlib.collections.PathCollection at 0x111ace278>"
      ]
     },
     "execution_count": 195,
     "metadata": {},
     "output_type": "execute_result"
    },
    {
     "data": {
      "image/png": "[encoded data removed]",
      "text/plain": [
       "<matplotlib.figure.Figure at 0x11c098208>"
      ]
     },
     "metadata": {},
     "output_type": "display_data"
    }
   ],
   "source": [
    "import numpy as np\n",
    "import matplotlib.pyplot as plt\n",
    "import matplotlib.pyplot as plt\n",
    "import numpy as np\n",
    "%matplotlib inline\n",
    "\n",
    "\n",
    "y = final_data[\"log_gross_inflate\"]\n",
    "x = final_data[\"Run_Time\"]\n",
    "\n",
    "\n",
    "\n",
    "plt.scatter(x,y,color='blue',s=5)"
   ]
  },
  {
   "cell_type": "code",
   "execution_count": 159,
   "metadata": {
    "collapsed": true
   },
   "outputs": [],
   "source": [
    "final_data[\"log_director_gross\"] = final_data[\"director_gross\"].apply(np.log)"
   ]
  },
  {
   "cell_type": "code",
   "execution_count": 161,
   "metadata": {
    "collapsed": false
   },
   "outputs": [
    {
     "data": {
      "text/plain": [
       "1         -inf\n",
       "2         -inf\n",
       "3    16.860470\n",
       "4    16.845580\n",
       "Name: log_director_gross, dtype: float64"
      ]
     },
     "execution_count": 161,
     "metadata": {},
     "output_type": "execute_result"
    }
   ],
   "source": [
    "final_data[\"log_director_gross\"][1:5]"
   ]
  },
  {
   "cell_type": "code",
   "execution_count": 170,
   "metadata": {
    "collapsed": false
   },
   "outputs": [],
   "source": [
    "final_data[\"log_director_gross\"] = final_data[\"log_director_gross\"].replace([np.inf, -np.inf], 0)"
   ]
  },
  {
   "cell_type": "code",
   "execution_count": 180,
   "metadata": {
    "collapsed": true
   },
   "outputs": [],
   "source": [
    "final_data[\"log_Num_theatres\"] = final_data[\"Num_theatres\"].apply(np.log)"
   ]
  },
  {
   "cell_type": "code",
   "execution_count": 1071,
   "metadata": {
    "collapsed": false
   },
   "outputs": [
    {
     "data": {
      "text/plain": [
       "<matplotlib.collections.PathCollection at 0x11cd3ef28>"
      ]
     },
     "execution_count": 1071,
     "metadata": {},
     "output_type": "execute_result"
    },
    {
     "data": {
      "image/png": "[encoded data removed]",
      "text/plain": [
       "<matplotlib.figure.Figure at 0x1090b25f8>"
      ]
     },
     "metadata": {},
     "output_type": "display_data"
    }
   ],
   "source": [
    "import numpy as np\n",
    "import matplotlib.pyplot as plt\n",
    "import matplotlib.pyplot as plt\n",
    "import numpy as np\n",
    "%matplotlib inline\n",
    "\n",
    "\n",
    "y = final_data[\"log_gross_inflate\"]\n",
    "x = final_data[\"Budget_inflate\"]\n",
    "plt.xlabel('Budget')\n",
    "plt.ylabel('log(Movie Gross)')\n",
    "\n",
    "\n",
    "plt.scatter(x,y,color='blue',s=5)"
   ]
  },
  {
   "cell_type": "code",
   "execution_count": 1061,
   "metadata": {
    "collapsed": false
   },
   "outputs": [
    {
     "name": "stdout",
     "output_type": "stream",
     "text": [
      "                            OLS Regression Results                            \n",
      "==============================================================================\n",
      "Dep. Variable:      log_gross_inflate   R-squared:                       0.796\n",
      "Model:                            OLS   Adj. R-squared:                  0.791\n",
      "Method:                 Least Squares   F-statistic:                     173.9\n",
      "Date:                Thu, 14 Jul 2016   Prob (F-statistic):               0.00\n",
      "Time:                        17:50:09   Log-Likelihood:                -2149.4\n",
      "No. Observations:                1552   AIC:                             4369.\n",
      "Df Residuals:                    1517   BIC:                             4556.\n",
      "Df Model:                          34                                         \n",
      "Covariance Type:            nonrobust                                         \n",
      "=======================================================================================================\n",
      "                                          coef    std err          t      P>|t|      [95.0% Conf. Int.]\n",
      "-------------------------------------------------------------------------------------------------------\n",
      "Intercept                              15.6388      0.498     31.409      0.000        14.662    16.615\n",
      "month[T.December]                       0.4714      0.848      0.556      0.578        -1.191     2.134\n",
      "month[T.J_A]                            0.1985      0.255      0.779      0.436        -0.301     0.698\n",
      "month[T.May_July]                       0.9846      0.747      1.318      0.188        -0.481     2.450\n",
      "month[T.November]                       1.0284      0.317      3.247      0.001         0.407     1.650\n",
      "Genre[T.Adventure]                      0.1025      0.149      0.689      0.491        -0.189     0.394\n",
      "Genre[T.Comedy]                         0.4005      0.095      4.225      0.000         0.215     0.586\n",
      "Genre[T.Drama]                          0.6106      0.098      6.217      0.000         0.418     0.803\n",
      "Genre[T.Fantasy]                        0.1121      0.158      0.709      0.479        -0.198     0.422\n",
      "Genre[T.Foreign]                        1.3702      0.218      6.297      0.000         0.943     1.797\n",
      "Genre[T.Horror]                         0.4274      0.120      3.568      0.000         0.192     0.662\n",
      "Genre[T.Romance]                        0.5149      0.185      2.778      0.006         0.151     0.878\n",
      "Genre[T.Sci-Fi]                         0.0913      0.127      0.718      0.473        -0.158     0.341\n",
      "Genre[T.Thriller]                       0.2716      0.126      2.147      0.032         0.023     0.520\n",
      "Genre[T.Unknown]                       -1.2008      0.347     -3.456      0.001        -1.882    -0.519\n",
      "Rating[T.NC-17]                         1.0880      1.114      0.977      0.329        -1.098     3.274\n",
      "Rating[T.PG]                            0.9421      0.495      1.905      0.057        -0.028     1.912\n",
      "Rating[T.R]                             0.8393      0.495      1.694      0.090        -0.132     1.811\n",
      "Rating[T.Unrated]                      -2.6001      0.563     -4.615      0.000        -3.705    -1.495\n",
      "Rating[T.NC-17]:month[T.December]    2.234e-15   1.06e-15      2.114      0.035      1.61e-16  4.31e-15\n",
      "Rating[T.PG]:month[T.December]         -0.3049      0.856     -0.356      0.722        -1.985     1.375\n",
      "Rating[T.R]:month[T.December]           0.3154      0.860      0.367      0.714        -1.371     2.002\n",
      "Rating[T.Unrated]:month[T.December]     3.3132      1.325      2.500      0.013         0.714     5.913\n",
      "Rating[T.NC-17]:month[T.J_A]            0.0229      0.976      0.023      0.981        -1.891     1.937\n",
      "Rating[T.PG]:month[T.J_A]              -0.1603      0.264     -0.607      0.544        -0.678     0.357\n",
      "Rating[T.R]:month[T.J_A]               -0.0764      0.267     -0.287      0.774        -0.599     0.446\n",
      "Rating[T.Unrated]:month[T.J_A]          0.4124      0.371      1.112      0.266        -0.315     1.140\n",
      "Rating[T.NC-17]:month[T.May_July]   -2.164e-15   1.41e-15     -1.533      0.125     -4.93e-15  6.04e-16\n",
      "Rating[T.PG]:month[T.May_July]         -1.0783      0.754     -1.430      0.153        -2.557     0.401\n",
      "Rating[T.R]:month[T.May_July]          -0.8562      0.756     -1.133      0.257        -2.339     0.626\n",
      "Rating[T.Unrated]:month[T.May_July]     0.2285      0.906      0.252      0.801        -1.549     2.006\n",
      "Rating[T.NC-17]:month[T.November]      -0.3828      1.119     -0.342      0.732        -2.578     1.813\n",
      "Rating[T.PG]:month[T.November]         -0.9609      0.335     -2.870      0.004        -1.618    -0.304\n",
      "Rating[T.R]:month[T.November]          -0.4610      0.339     -1.360      0.174        -1.126     0.204\n",
      "Rating[T.Unrated]:month[T.November]     2.8331      0.658      4.308      0.000         1.543     4.123\n",
      "log_budget_inflate                      0.2319      0.041      5.694      0.000         0.152     0.312\n",
      "Run_Time                                0.0917      0.031      2.927      0.003         0.030     0.153\n",
      "Num_theatres                            1.4950      0.042     35.411      0.000         1.412     1.578\n",
      "director_gross                          0.1883      0.034      5.563      0.000         0.122     0.255\n",
      "==============================================================================\n",
      "Omnibus:                      391.060   Durbin-Watson:                   1.309\n",
      "Prob(Omnibus):                  0.000   Jarque-Bera (JB):             2102.807\n",
      "Skew:                          -1.069   Prob(JB):                         0.00\n",
      "Kurtosis:                       8.286   Cond. No.                     1.47e+16\n",
      "==============================================================================\n",
      "\n",
      "Warnings:\n",
      "[1] Standard Errors assume that the covariance matrix of the errors is correctly specified.\n",
      "[2] The smallest eigenvalue is 1.73e-29. This might indicate that there are\n",
      "strong multicollinearity problems or that the design matrix is singular.\n"
     ]
    }
   ],
   "source": [
    "import statsmodels.api as sm\n",
    "import pandas\n",
    "from patsy import dmatrices\n",
    "\n",
    "y, X = dmatrices('log_gross_inflate ~  month+Genre+Rating+(Rating*month)+log_budget_inflate+Run_Time+Num_theatres+director_gross', data=final_x, return_type='dataframe')\n",
    "mod = sm.OLS(y, X)\n",
    "res = mod.fit() \n",
    "print (res.summary())"
   ]
  },
  {
   "cell_type": "code",
   "execution_count": 1046,
   "metadata": {
    "collapsed": false
   },
   "outputs": [],
   "source": [
    "from sklearn import cross_validation\n",
    "X_train, X_test, y_train, y_test = cross_validation.train_test_split(X, y, test_size=0.3)"
   ]
  },
  {
   "cell_type": "code",
   "execution_count": 1047,
   "metadata": {
    "collapsed": false
   },
   "outputs": [],
   "source": [
    "X_train = X_train.reset_index(drop=True)\n",
    "y_train = y_train.reset_index(drop=True)"
   ]
  },
  {
   "cell_type": "code",
   "execution_count": 1049,
   "metadata": {
    "collapsed": false
   },
   "outputs": [],
   "source": [
    "from sklearn.cross_validation import KFold\n",
    "from sklearn.metrics import r2_score,mean_squared_error\n",
    "kf = KFold(len(X_train), n_folds=10)\n",
    "lasso = []\n",
    "ridge = []\n",
    "for train,test in kf:\n",
    "    lsv = linear_model.LassoCV(cv=10)    \n",
    "    lsv.fit(X_train.loc[train],np.array(y_train.loc[train]).reshape(len(train),))\n",
    "    lasso.append(lsv.score(X_train.loc[test],y_train.loc[test])) \n",
    "    \n",
    "    \n",
    "    rcv = linear_model.RidgeCV(cv=10)\n",
    "    rcv.fit(X_train.loc[train],np.array(y_train.loc[train]).reshape(len(train),))\n",
    "    rc= rcv.predict(X_train.loc[test])\n",
    "    ridge.append(rcv.score(X_train.loc[test],y_train.loc[test]))\n",
    " \n",
    "cf_r = rcv.coef_.tolist()\n",
    "cf_l = lsv.coef_.tolist()  \n",
    "        "
   ]
  },
  {
   "cell_type": "code",
   "execution_count": 1063,
   "metadata": {
    "collapsed": false
   },
   "outputs": [
    {
     "data": {
      "text/plain": [
       "10.0"
      ]
     },
     "execution_count": 1063,
     "metadata": {},
     "output_type": "execute_result"
    }
   ],
   "source": [
    "lsv.alpha_\n",
    "rcv.alpha_"
   ]
  },
  {
   "cell_type": "code",
   "execution_count": 1050,
   "metadata": {
    "collapsed": false
   },
   "outputs": [
    {
     "name": "stdout",
     "output_type": "stream",
     "text": [
      "[0.7578111125109861, 0.78814075509687798, 0.82212129665249378, 0.73992531890552371, 0.76391625573349975, 0.72531456274195683, 0.75137077199951796, 0.7663956358468127, 0.77215951154862417, 0.77706051022562872]\n",
      "[0.75481436237963695, 0.78867203477906267, 0.82264958218395523, 0.74021531059736256, 0.76806597136282462, 0.73300226495369702, 0.7637032332753555, 0.76525595500085231, 0.77626858836398027, 0.77456886024177507]\n"
     ]
    }
   ],
   "source": [
    "print(lasso)\n",
    "print(ridge)"
   ]
  },
  {
   "cell_type": "code",
   "execution_count": 1058,
   "metadata": {
    "collapsed": false,
    "scrolled": true
   },
   "outputs": [
    {
     "name": "stdout",
     "output_type": "stream",
     "text": [
      "Ridge coeff:\n",
      "('Intercept', 0.0) \n",
      "\n",
      "('month[T.December]', 0.268918711198712) \n",
      "\n",
      "('month[T.J_A]', -0.062404831493445126) \n",
      "\n",
      "('month[T.May_July]', 0.04194657156832533) \n",
      "\n",
      "('month[T.November]', 0.2229131786481951) \n",
      "\n",
      "('Genre[T.Adventure]', 0.0377024301169863) \n",
      "\n",
      "('Genre[T.Comedy]', 0.1625257830055429) \n",
      "\n",
      "('Genre[T.Drama]', 0.23464860968807155) \n",
      "\n",
      "('Genre[T.Fantasy]', 0.1135035618572656) \n",
      "\n",
      "('Genre[T.Foreign]', 0.5990752935971108) \n",
      "\n",
      "('Genre[T.Horror]', 0.1650430953195649) \n",
      "\n",
      "('Genre[T.Romance]', 0.33303258921242684) \n",
      "\n",
      "('Genre[T.Sci-Fi]', 0.018128496385509237) \n",
      "\n",
      "('Genre[T.Thriller]', 0.19748135160091188) \n",
      "\n",
      "('Genre[T.Unknown]', -0.3347145729970265) \n",
      "\n",
      "('Rating[T.NC-17]', 0.15624953035285555) \n",
      "\n",
      "('Rating[T.PG]', 0.2764680510733203) \n",
      "\n",
      "('Rating[T.R]', 0.374244841266238) \n",
      "\n",
      "('Rating[T.Unrated]', -1.068805907738069) \n",
      "\n",
      "('Rating[T.NC-17]:month[T.December]', 0.0) \n",
      "\n",
      "('Rating[T.PG]:month[T.December]', -0.16164512524732919) \n",
      "\n",
      "('Rating[T.R]:month[T.December]', 0.3534461839268377) \n",
      "\n",
      "('Rating[T.Unrated]:month[T.December]', 0.11458417051827473) \n",
      "\n",
      "('Rating[T.NC-17]:month[T.J_A]', 0.030617174715498643) \n",
      "\n",
      "('Rating[T.PG]:month[T.J_A]', 0.10037463828795902) \n",
      "\n",
      "('Rating[T.R]:month[T.J_A]', 0.09330423714368495) \n",
      "\n",
      "('Rating[T.Unrated]:month[T.J_A]', -0.2867008816405954) \n",
      "\n",
      "('Rating[T.NC-17]:month[T.May_July]', 0.0) \n",
      "\n",
      "('Rating[T.PG]:month[T.May_July]', -0.06249595990738297) \n",
      "\n",
      "('Rating[T.R]:month[T.May_July]', -0.01892195999919844) \n",
      "\n",
      "('Rating[T.Unrated]:month[T.May_July]', -0.07568634226243012) \n",
      "\n",
      "('Rating[T.NC-17]:month[T.November]', 0.12563235563735578) \n",
      "\n",
      "('Rating[T.PG]:month[T.November]', -0.1964627526645139) \n",
      "\n",
      "('Rating[T.R]:month[T.November]', 0.13914158691008421) \n",
      "\n",
      "('Rating[T.Unrated]:month[T.November]', 0.15460198876526413) \n",
      "\n",
      "('Genre[T.Adventure]:Rating[T.NC-17]', 0.0) \n",
      "\n",
      "('Genre[T.Comedy]:Rating[T.NC-17]', 0.0) \n",
      "\n",
      "('Genre[T.Drama]:Rating[T.NC-17]', 0.0) \n",
      "\n",
      "('Genre[T.Fantasy]:Rating[T.NC-17]', 0.0) \n",
      "\n",
      "('Genre[T.Foreign]:Rating[T.NC-17]', 0.12563235563735578) \n",
      "\n",
      "('Genre[T.Horror]:Rating[T.NC-17]', 0.0) \n",
      "\n",
      "('Genre[T.Romance]:Rating[T.NC-17]', 0.0) \n",
      "\n",
      "('Genre[T.Sci-Fi]:Rating[T.NC-17]', 0.0) \n",
      "\n",
      "('Genre[T.Thriller]:Rating[T.NC-17]', 0.030617174715498685) \n",
      "\n",
      "('Genre[T.Unknown]:Rating[T.NC-17]', 0.0) \n",
      "\n",
      "('Genre[T.Adventure]:Rating[T.PG]', 0.007954702360067442) \n",
      "\n",
      "('Genre[T.Comedy]:Rating[T.PG]', 0.27015939749199186) \n",
      "\n",
      "('Genre[T.Drama]:Rating[T.PG]', 0.37836465405563086) \n",
      "\n",
      "('Genre[T.Fantasy]:Rating[T.PG]', -0.2011502773623945) \n",
      "\n",
      "('Genre[T.Foreign]:Rating[T.PG]', 0.324932322467733) \n",
      "\n",
      "('Genre[T.Horror]:Rating[T.PG]', 0.27826401643462634) \n",
      "\n",
      "('Genre[T.Romance]:Rating[T.PG]', -0.047199711600330804) \n",
      "\n",
      "('Genre[T.Sci-Fi]:Rating[T.PG]', -0.07051737800148833) \n",
      "\n",
      "('Genre[T.Thriller]:Rating[T.PG]', 0.1420768759449314) \n",
      "\n",
      "('Genre[T.Unknown]:Rating[T.PG]', 0.11846469419711943) \n",
      "\n",
      "('Genre[T.Adventure]:Rating[T.R]', 0.029747727756920243) \n",
      "\n",
      "('Genre[T.Comedy]:Rating[T.R]', 0.11300305531404624) \n",
      "\n",
      "('Genre[T.Drama]:Rating[T.R]', 0.30580402050963773) \n",
      "\n",
      "('Genre[T.Fantasy]:Rating[T.R]', 0.10747437526245661) \n",
      "\n",
      "('Genre[T.Foreign]:Rating[T.R]', 0.002829698570947857) \n",
      "\n",
      "('Genre[T.Horror]:Rating[T.R]', 0.24095589904945983) \n",
      "\n",
      "('Genre[T.Romance]:Rating[T.R]', 0.30669030978437395) \n",
      "\n",
      "('Genre[T.Sci-Fi]:Rating[T.R]', 0.0886458743869989) \n",
      "\n",
      "('Genre[T.Thriller]:Rating[T.R]', 0.07934199207432904) \n",
      "\n",
      "('Genre[T.Unknown]:Rating[T.R]', -0.4531792671941463) \n",
      "\n",
      "('Genre[T.Adventure]:Rating[T.Unrated]', 0.0) \n",
      "\n",
      "('Genre[T.Comedy]:Rating[T.Unrated]', -0.3102695794025751) \n",
      "\n",
      "('Genre[T.Drama]:Rating[T.Unrated]', -0.621730640320744) \n",
      "\n",
      "('Genre[T.Fantasy]:Rating[T.Unrated]', 0.2071794639572037) \n",
      "\n",
      "('Genre[T.Foreign]:Rating[T.Unrated]', 0.145680916921078) \n",
      "\n",
      "('Genre[T.Horror]:Rating[T.Unrated]', -0.3541768201645095) \n",
      "\n",
      "('Genre[T.Romance]:Rating[T.Unrated]', 0.07354199102837893) \n",
      "\n",
      "('Genre[T.Sci-Fi]:Rating[T.Unrated]', 0.0) \n",
      "\n",
      "('Genre[T.Thriller]:Rating[T.Unrated]', -0.05455469113384314) \n",
      "\n",
      "('Genre[T.Unknown]:Rating[T.Unrated]', 0.0) \n",
      "\n",
      "('log_budget_inflate', 0.3433305891978724) \n",
      "\n",
      "('Run_Time', 0.060850816972409474) \n",
      "\n",
      "('Num_theatres', 1.438062790960643) \n",
      "\n",
      "('director_gross', 0.21192011833844712) \n",
      "\n"
     ]
    }
   ],
   "source": [
    "\n",
    "print(\"Ridge coeff:\")\n",
    "coeff_list = [(col,coeff) for col,coeff in zip(X_train.columns,cf_r)]\n",
    "for i in coeff_list:\n",
    "    print(i,'\\n')\n",
    "\n",
    "    "
   ]
  },
  {
   "cell_type": "code",
   "execution_count": 1052,
   "metadata": {
    "collapsed": false,
    "scrolled": true
   },
   "outputs": [
    {
     "name": "stdout",
     "output_type": "stream",
     "text": [
      "Lasso coeff:\n",
      "('Intercept', 0.0) \n",
      "\n",
      "('month[T.December]', 0.10651746613236392) \n",
      "\n",
      "('month[T.J_A]', 0.0) \n",
      "\n",
      "('month[T.May_July]', -0.0) \n",
      "\n",
      "('month[T.November]', 0.06440960463351075) \n",
      "\n",
      "('Genre[T.Adventure]', 0.0) \n",
      "\n",
      "('Genre[T.Comedy]', 0.1596411662955885) \n",
      "\n",
      "('Genre[T.Drama]', 0.2784306147738407) \n",
      "\n",
      "('Genre[T.Fantasy]', -0.0) \n",
      "\n",
      "('Genre[T.Foreign]', 0.924896535842996) \n",
      "\n",
      "('Genre[T.Horror]', 0.2606990674852323) \n",
      "\n",
      "('Genre[T.Romance]', 0.24594693970974615) \n",
      "\n",
      "('Genre[T.Sci-Fi]', -0.0) \n",
      "\n",
      "('Genre[T.Thriller]', 0.17641516087258036) \n",
      "\n",
      "('Genre[T.Unknown]', -0.0) \n",
      "\n",
      "('Rating[T.NC-17]', 0.0) \n",
      "\n",
      "('Rating[T.PG]', -0.0) \n",
      "\n",
      "('Rating[T.R]', 0.15456284104991516) \n",
      "\n",
      "('Rating[T.Unrated]', -2.024322543665298) \n",
      "\n",
      "('Rating[T.NC-17]:month[T.December]', 0.0) \n",
      "\n",
      "('Rating[T.PG]:month[T.December]', -0.0) \n",
      "\n",
      "('Rating[T.R]:month[T.December]', 0.4794202289335735) \n",
      "\n",
      "('Rating[T.Unrated]:month[T.December]', 0.0) \n",
      "\n",
      "('Rating[T.NC-17]:month[T.J_A]', 0.0) \n",
      "\n",
      "('Rating[T.PG]:month[T.J_A]', 0.0) \n",
      "\n",
      "('Rating[T.R]:month[T.J_A]', 0.0) \n",
      "\n",
      "('Rating[T.Unrated]:month[T.J_A]', -0.0) \n",
      "\n",
      "('Rating[T.NC-17]:month[T.May_July]', 0.0) \n",
      "\n",
      "('Rating[T.PG]:month[T.May_July]', -0.00389759222851067) \n",
      "\n",
      "('Rating[T.R]:month[T.May_July]', 0.0) \n",
      "\n",
      "('Rating[T.Unrated]:month[T.May_July]', 0.0) \n",
      "\n",
      "('Rating[T.NC-17]:month[T.November]', 0.0) \n",
      "\n",
      "('Rating[T.PG]:month[T.November]', -0.0) \n",
      "\n",
      "('Rating[T.R]:month[T.November]', 0.16343494742414139) \n",
      "\n",
      "('Rating[T.Unrated]:month[T.November]', 0.0) \n",
      "\n",
      "('Genre[T.Adventure]:Rating[T.NC-17]', 0.0) \n",
      "\n",
      "('Genre[T.Comedy]:Rating[T.NC-17]', 0.0) \n",
      "\n",
      "('Genre[T.Drama]:Rating[T.NC-17]', 0.0) \n",
      "\n",
      "('Genre[T.Fantasy]:Rating[T.NC-17]', 0.0) \n",
      "\n",
      "('Genre[T.Foreign]:Rating[T.NC-17]', 0.0) \n",
      "\n",
      "('Genre[T.Horror]:Rating[T.NC-17]', 0.0) \n",
      "\n",
      "('Genre[T.Romance]:Rating[T.NC-17]', 0.0) \n",
      "\n",
      "('Genre[T.Sci-Fi]:Rating[T.NC-17]', 0.0) \n",
      "\n",
      "('Genre[T.Thriller]:Rating[T.NC-17]', 0.0) \n",
      "\n",
      "('Genre[T.Unknown]:Rating[T.NC-17]', 0.0) \n",
      "\n",
      "('Genre[T.Adventure]:Rating[T.PG]', 0.0) \n",
      "\n",
      "('Genre[T.Comedy]:Rating[T.PG]', 0.20417345643789225) \n",
      "\n",
      "('Genre[T.Drama]:Rating[T.PG]', 0.26578123333738124) \n",
      "\n",
      "('Genre[T.Fantasy]:Rating[T.PG]', -0.01844911569451366) \n",
      "\n",
      "('Genre[T.Foreign]:Rating[T.PG]', 0.0) \n",
      "\n",
      "('Genre[T.Horror]:Rating[T.PG]', 0.07352572301093548) \n",
      "\n",
      "('Genre[T.Romance]:Rating[T.PG]', -0.0) \n",
      "\n",
      "('Genre[T.Sci-Fi]:Rating[T.PG]', -0.008662538939096898) \n",
      "\n",
      "('Genre[T.Thriller]:Rating[T.PG]', 0.0) \n",
      "\n",
      "('Genre[T.Unknown]:Rating[T.PG]', 0.0) \n",
      "\n",
      "('Genre[T.Adventure]:Rating[T.R]', 0.0) \n",
      "\n",
      "('Genre[T.Comedy]:Rating[T.R]', 0.0) \n",
      "\n",
      "('Genre[T.Drama]:Rating[T.R]', 0.16262017149318714) \n",
      "\n",
      "('Genre[T.Fantasy]:Rating[T.R]', 0.0) \n",
      "\n",
      "('Genre[T.Foreign]:Rating[T.R]', -0.0) \n",
      "\n",
      "('Genre[T.Horror]:Rating[T.R]', 0.0) \n",
      "\n",
      "('Genre[T.Romance]:Rating[T.R]', 0.0) \n",
      "\n",
      "('Genre[T.Sci-Fi]:Rating[T.R]', 0.0) \n",
      "\n",
      "('Genre[T.Thriller]:Rating[T.R]', 0.0) \n",
      "\n",
      "('Genre[T.Unknown]:Rating[T.R]', -0.9125769698235463) \n",
      "\n",
      "('Genre[T.Adventure]:Rating[T.Unrated]', 0.0) \n",
      "\n",
      "('Genre[T.Comedy]:Rating[T.Unrated]', -0.0) \n",
      "\n",
      "('Genre[T.Drama]:Rating[T.Unrated]', -0.4829997179262838) \n",
      "\n",
      "('Genre[T.Fantasy]:Rating[T.Unrated]', 0.0) \n",
      "\n",
      "('Genre[T.Foreign]:Rating[T.Unrated]', 0.0) \n",
      "\n",
      "('Genre[T.Horror]:Rating[T.Unrated]', -0.0) \n",
      "\n",
      "('Genre[T.Romance]:Rating[T.Unrated]', 0.0) \n",
      "\n",
      "('Genre[T.Sci-Fi]:Rating[T.Unrated]', 0.0) \n",
      "\n",
      "('Genre[T.Thriller]:Rating[T.Unrated]', -0.0) \n",
      "\n",
      "('Genre[T.Unknown]:Rating[T.Unrated]', 0.0) \n",
      "\n",
      "('log_budget_inflate', 0.31025634398696117) \n",
      "\n",
      "('Run_Time', 0.06973803313990316) \n",
      "\n",
      "('Num_theatres', 1.462013512741925) \n",
      "\n",
      "('director_gross', 0.1888673783142641) \n",
      "\n"
     ]
    }
   ],
   "source": [
    "\n",
    "print(\"Lasso coeff:\")\n",
    "coeff_list = [(col,coeff) for col,coeff in zip(X_train.columns,cf_l)]\n",
    "for i in coeff_list:\n",
    "    print(i,'\\n')\n",
    "\n"
   ]
  },
  {
   "cell_type": "code",
   "execution_count": 1053,
   "metadata": {
    "collapsed": false
   },
   "outputs": [],
   "source": [
    "p_rcv = rcv.predict(X_test)\n",
    "p_lsv = lsv.predict(X_test)"
   ]
  },
  {
   "cell_type": "markdown",
   "metadata": {},
   "source": [
    "#### Ridge regression"
   ]
  },
  {
   "cell_type": "code",
   "execution_count": 1054,
   "metadata": {
    "collapsed": false
   },
   "outputs": [
    {
     "name": "stdout",
     "output_type": "stream",
     "text": [
      "0.780202613267\n",
      "0.97587162984\n"
     ]
    }
   ],
   "source": [
    "from sklearn.metrics import r2_score,mean_squared_error\n",
    "print(r2_score(y_test,p_rcv))\n",
    "print(mean_squared_error(y_test,p_rcv))"
   ]
  },
  {
   "cell_type": "markdown",
   "metadata": {},
   "source": [
    "#### Lasso Regression"
   ]
  },
  {
   "cell_type": "code",
   "execution_count": 1055,
   "metadata": {
    "collapsed": false
   },
   "outputs": [
    {
     "name": "stdout",
     "output_type": "stream",
     "text": [
      "0.780276341748\n",
      "0.975544285033\n"
     ]
    }
   ],
   "source": [
    "from sklearn.metrics import r2_score,mean_squared_error\n",
    "print(r2_score(y_test,p_lsv))\n",
    "print(mean_squared_error(y_test,p_lsv))"
   ]
  },
  {
   "cell_type": "code",
   "execution_count": 1064,
   "metadata": {
    "collapsed": false
   },
   "outputs": [
    {
     "data": {
      "text/plain": [
       "array([ 0.        ,  0.10651747,  0.        , -0.        ,  0.0644096 ,\n",
       "        0.        ,  0.15964117,  0.27843061, -0.        ,  0.92489654,\n",
       "        0.26069907,  0.24594694, -0.        ,  0.17641516, -0.        ,\n",
       "        0.        , -0.        ,  0.15456284, -2.02432254,  0.        ,\n",
       "       -0.        ,  0.47942023,  0.        ,  0.        ,  0.        ,\n",
       "        0.        , -0.        ,  0.        , -0.00389759,  0.        ,\n",
       "        0.        ,  0.        , -0.        ,  0.16343495,  0.        ,\n",
       "        0.        ,  0.        ,  0.        ,  0.        ,  0.        ,\n",
       "        0.        ,  0.        ,  0.        ,  0.        ,  0.        ,\n",
       "        0.        ,  0.20417346,  0.26578123, -0.01844912,  0.        ,\n",
       "        0.07352572, -0.        , -0.00866254,  0.        ,  0.        ,\n",
       "        0.        ,  0.        ,  0.16262017,  0.        , -0.        ,\n",
       "        0.        ,  0.        ,  0.        ,  0.        , -0.91257697,\n",
       "        0.        , -0.        , -0.48299972,  0.        ,  0.        ,\n",
       "       -0.        ,  0.        ,  0.        , -0.        ,  0.        ,\n",
       "        0.31025634,  0.06973803,  1.46201351,  0.18886738])"
      ]
     },
     "execution_count": 1064,
     "metadata": {},
     "output_type": "execute_result"
    }
   ],
   "source": [
    "lsv.coef_"
   ]
  },
  {
   "cell_type": "markdown",
   "metadata": {},
   "source": [
    "# Ridge"
   ]
  },
  {
   "cell_type": "code",
   "execution_count": 1072,
   "metadata": {
    "collapsed": false
   },
   "outputs": [
    {
     "name": "stderr",
     "output_type": "stream",
     "text": [
      "/Users/Manoj/anaconda/lib/python3.5/site-packages/ipykernel/__main__.py:2: FutureWarning: sort(columns=....) is deprecated, use sort_values(by=.....)\n",
      "  from ipykernel import kernelapp as app\n",
      "/Users/Manoj/anaconda/lib/python3.5/site-packages/ipykernel/__main__.py:4: FutureWarning: sort(columns=....) is deprecated, use sort_values(by=.....)\n"
     ]
    },
    {
     "name": "stdout",
     "output_type": "stream",
     "text": [
      "                                                  Movie\n",
      "1114                              Marvel's The Avengers\n",
      "350           Pirates of the Caribbean:Dead Man's Chest\n",
      "1115                              The Dark Knight Rises\n",
      "62                            The Passion of the Christ\n",
      "1433                             Avengers:Age of Ultron\n",
      "1116                                   The Hunger Games\n",
      "1219                                         Iron Man 3\n",
      "465                                        Spider-Man 3\n",
      "1003                      Transformers:Dark of the Moon\n",
      "1516                                           Deadpool\n",
      "214   The Chronicles of Narnia:The Lion, the Witch a...\n",
      "557                                            Iron Man\n",
      "1434                                          Furious 7\n",
      "558   Indiana Jones and the Kingdom of the Crystal S...\n",
      "63                                     Meet the Fockers\n",
      "838                                          Iron Man 2\n",
      "468           Harry Potter and the Order of the Phoenix\n",
      "1324                            Guardians of the Galaxy\n",
      "677                          The Twilight Saga:New Moon\n",
      "64             Harry Potter and the Prisoner of Azkaban\n",
      "679                                           Star Trek\n",
      "1119                             The Amazing Spider-Man\n",
      "1005                               The Hangover Part II\n",
      "352                                   The Da Vinci Code\n",
      "1006         Pirates of the Caribbean:On Stranger Tides                                                   Movie\n",
      "465                                        Spider-Man 3\n",
      "1219                                         Iron Man 3\n",
      "1115                              The Dark Knight Rises\n",
      "1433                             Avengers:Age of Ultron\n",
      "1114                              Marvel's The Avengers\n",
      "1116                                   The Hunger Games\n",
      "468           Harry Potter and the Order of the Phoenix\n",
      "838                                          Iron Man 2\n",
      "1003                      Transformers:Dark of the Moon\n",
      "350           Pirates of the Caribbean:Dead Man's Chest\n",
      "1119                             The Amazing Spider-Man\n",
      "558   Indiana Jones and the Kingdom of the Crystal S...\n",
      "62                            The Passion of the Christ\n",
      "677                          The Twilight Saga:New Moon\n",
      "63                                     Meet the Fockers\n",
      "557                                            Iron Man\n",
      "1006         Pirates of the Caribbean:On Stranger Tides\n",
      "679                                           Star Trek\n",
      "1122                                              MIB 3\n",
      "1143                                       Dark Shadows\n",
      "64             Harry Potter and the Prisoner of Azkaban\n",
      "69                                                 Troy\n",
      "1333                                       Interstellar\n",
      "569                                           Get Smart\n",
      "352                                   The Da Vinci Code\n",
      "MIB 3\n",
      "Dark Shadows\n",
      "Troy\n",
      "Interstellar\n",
      "Get Smart\n"
     ]
    }
   ],
   "source": [
    "compare = pd.concat([y_test,pd.DataFrame(p_rcv,index=y_test.index)],axis = 1)\n",
    "compare = compare.sort(['log_gross_inflate'],ascending = False)\n",
    "compare.columns = [\"log_gross_inflate\",\"pred\"]\n",
    "compare_pred = compare.sort(['pred'],ascending = False)\n",
    "test_ind = compare.index.tolist()\n",
    "pred_ind = compare_pred.index.tolist()\n",
    "original = final_data.ix[test_ind,\"Movie\"][:25]\n",
    "predicted = final_data.ix[pred_ind,\"Movie\"][:25]\n",
    "original = pd.DataFrame(original)\n",
    "predicted = pd.DataFrame(predicted)\n",
    "count = 0\n",
    "print(original,predicted)\n",
    "for i in predicted[\"Movie\"]:\n",
    "    if len(original[(original[\"Movie\"].str.contains(i))]) == 0:\n",
    "        print(i)\n",
    "    \n",
    "        \n",
    "    "
   ]
  },
  {
   "cell_type": "markdown",
   "metadata": {},
   "source": [
    "# Lasso"
   ]
  },
  {
   "cell_type": "code",
   "execution_count": 1057,
   "metadata": {
    "collapsed": false
   },
   "outputs": [
    {
     "name": "stdout",
     "output_type": "stream",
     "text": [
      "MIB 3\n",
      "Interstellar\n",
      "Dark Shadows\n",
      "Troy\n",
      "Get Smart\n",
      "Star Trek Into Darkness\n"
     ]
    },
    {
     "name": "stderr",
     "output_type": "stream",
     "text": [
      "/Users/Manoj/anaconda/lib/python3.5/site-packages/ipykernel/__main__.py:2: FutureWarning: sort(columns=....) is deprecated, use sort_values(by=.....)\n",
      "  from ipykernel import kernelapp as app\n",
      "/Users/Manoj/anaconda/lib/python3.5/site-packages/ipykernel/__main__.py:4: FutureWarning: sort(columns=....) is deprecated, use sort_values(by=.....)\n"
     ]
    }
   ],
   "source": [
    "compare = pd.concat([y_test,pd.DataFrame(p_lsv,index=y_test.index)],axis = 1)\n",
    "compare = compare.sort(['log_gross_inflate'],ascending = False)\n",
    "compare.columns = [\"log_gross_inflate\",\"pred\"]\n",
    "compare_pred = compare.sort(['pred'],ascending = False)\n",
    "test_ind = compare.index.tolist()\n",
    "pred_ind = compare_pred.index.tolist()\n",
    "original = final_data.ix[test_ind,\"Movie\"][:25]\n",
    "predicted = final_data.ix[pred_ind,\"Movie\"][:25]\n",
    "original = pd.DataFrame(original)\n",
    "predicted = pd.DataFrame(predicted)\n",
    "count = 0\n",
    "for i in predicted[\"Movie\"]:\n",
    "    if len(original[(original[\"Movie\"].str.contains(i))]) == 0:\n",
    "        print(i)\n",
    "    \n",
    "        \n",
    "    "
   ]
  },
  {
   "cell_type": "code",
   "execution_count": null,
   "metadata": {
    "collapsed": true
   },
   "outputs": [],
   "source": []
  }
 ],
 "metadata": {
  "anaconda-cloud": {},
  "kernelspec": {
   "display_name": "Python [Root]",
   "language": "python",
   "name": "Python [Root]"
  },
  "language_info": {
   "codemirror_mode": {
    "name": "ipython",
    "version": 2
   },
   "file_extension": ".py",
   "mimetype": "text/x-python",
   "name": "python",
   "nbconvert_exporter": "python",
   "pygments_lexer": "ipython2",
   "version": "2.7.12"
  }
 },
 "nbformat": 4,
 "nbformat_minor": 0
}
